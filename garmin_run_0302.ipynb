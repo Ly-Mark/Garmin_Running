{
 "cells": [
  {
   "cell_type": "markdown",
   "source": [
    "## Imports"
   ],
   "metadata": {
    "collapsed": false
   }
  },
  {
   "cell_type": "code",
   "execution_count": null,
   "outputs": [],
   "source": [
    "import numpy as np\n",
    "import pandas as pd\n",
    "import matplotlib.pyplot as plt\n",
    "from datetime import datetime\n",
    "from scipy.stats import norm\n",
    "import math\n",
    "import re\n",
    "# import sidetable\n",
    "import seaborn as sns\n",
    "from sklearn.impute import SimpleImputer"
   ],
   "metadata": {
    "collapsed": false,
    "pycharm": {
     "name": "#%%\n"
    }
   }
  },
  {
   "cell_type": "markdown",
   "source": [
    "## Read in Survey.csv"
   ],
   "metadata": {
    "collapsed": false
   }
  },
  {
   "cell_type": "code",
   "execution_count": null,
   "outputs": [],
   "source": [
    "survey = pd.read_csv(\"surveydata.csv\")\n",
    "#how many observations\n",
    "print(survey.SubjectID.count())\n",
    "#unique ID\n",
    "print(len(pd.unique(survey['SubjectID'])))\n",
    "#unique description, 5 questions\n",
    "print(pd.unique(survey['description']))\n",
    "#print(max(survey['Unnamed:0']))\n",
    "survey.head()"
   ],
   "metadata": {
    "collapsed": false,
    "pycharm": {
     "name": "#%%\n"
    }
   }
  },
  {
   "cell_type": "markdown",
   "source": [
    "## We will pick these 2 descriptions:\n",
    "- 'Numeric answer for number of hours of sleep for participant on night before the run'\n",
    "- 'RPE scale 1-10 of workout difficulty'"
   ],
   "metadata": {
    "collapsed": false
   }
  },
  {
   "cell_type": "code",
   "execution_count": null,
   "outputs": [],
   "source": [
    "surveydf = survey[(survey.description == 'Numeric answer for number of hours of sleep for participant on night before the run') |\n",
    "           (survey.description == 'RPE scale 1-10 of workout difficulty')]\n",
    "print(pd.unique(surveydf['numerical_ans']))\n",
    "print(pd.unique(surveydf['textual_ans']))\n"
   ],
   "metadata": {
    "collapsed": false,
    "pycharm": {
     "name": "#%%\n"
    }
   }
  },
  {
   "cell_type": "code",
   "execution_count": null,
   "outputs": [],
   "source": [
    "#Lets clean this data\n",
    "\n",
    "#Drop 2 first columns\n",
    "surveydf.drop(surveydf.columns[[0, 1]], axis=1, inplace=True)"
   ],
   "metadata": {
    "collapsed": false,
    "pycharm": {
     "name": "#%%\n"
    }
   }
  },
  {
   "cell_type": "code",
   "execution_count": null,
   "outputs": [],
   "source": [
    "#Create key variables\n",
    "\n",
    "#For a unique survey, we can make a key variable concatenating  (SubjectID, Year and Date)\n",
    "cols = ['SubjectID', 'Year', 'Date'] #This key variable might help to find same observation in the garmin database\n",
    "surveydf['key'] = surveydf[cols].apply(lambda row: '_'.join(row.values.astype(str)), axis=1)\n",
    "\n",
    "#For a unique observation in the survey, we can make a key2 with (SubjectID, Year, Date and description)\n",
    "cols2 = ['SubjectID', 'Year', 'Date','description']\n",
    "surveydf['key2'] = surveydf[cols2].apply(lambda row: '_'.join(row.values.astype(str)), axis=1)\n",
    "\n",
    "#Count how many possible mistakes, duplicate observations may have\n",
    "print(surveydf[surveydf.duplicated(subset=['key2'],keep=False)].SubjectID.count())\n",
    "#53 from 5540 obs is not bad\n",
    "\n",
    "#Lets just look to the first one\n",
    "key_look = '424_2017_617'\n",
    "surveydf[surveydf.key == key_look]\n"
   ],
   "metadata": {
    "collapsed": false,
    "pycharm": {
     "name": "#%%\n"
    }
   }
  },
  {
   "cell_type": "code",
   "execution_count": null,
   "outputs": [],
   "source": [
    "for col in surveydf.columns:\n",
    "    pct_missing = np.mean(surveydf[col].isnull())\n",
    "    print('{} - {}%'.format(col, round(pct_missing*100)))"
   ],
   "metadata": {
    "collapsed": false,
    "pycharm": {
     "name": "#%%\n"
    }
   }
  },
  {
   "cell_type": "markdown",
   "source": [
    "## Split into 2 survey dfs - one for each description:\n",
    " Major task is to clean the textual data into numerical data"
   ],
   "metadata": {
    "collapsed": false
   }
  },
  {
   "cell_type": "code",
   "execution_count": null,
   "outputs": [],
   "source": [
    "surveydf1 = surveydf[surveydf.description ==  'RPE scale 1-10 of workout difficulty']\n",
    "surveydf1['cleaned_column'] = surveydf1['textual_ans'].apply(lambda x: [int(s) for s in x.split() if s.isdigit()][0])\n",
    "surveydf1['numerical_final_workout'] = surveydf1.numerical_ans.combine_first(surveydf1.cleaned_column)\n",
    "surveydf1.head()"
   ],
   "metadata": {
    "collapsed": false,
    "pycharm": {
     "name": "#%%\n"
    }
   }
  },
  {
   "cell_type": "code",
   "execution_count": null,
   "outputs": [],
   "source": [
    "surveydf1.textual_ans.unique()"
   ],
   "metadata": {
    "collapsed": false,
    "pycharm": {
     "name": "#%%\n"
    }
   }
  },
  {
   "cell_type": "code",
   "execution_count": null,
   "outputs": [],
   "source": [
    "surveydf2 = surveydf[surveydf.description ==  'Numeric answer for number of hours of sleep for participant on night before the run']\n",
    "surveydf2.textual_ans.unique()"
   ],
   "metadata": {
    "collapsed": false,
    "pycharm": {
     "name": "#%%\n"
    }
   }
  },
  {
   "cell_type": "code",
   "execution_count": null,
   "outputs": [],
   "source": [
    "surveydf2['cleaned_column0'] = surveydf2['textual_ans'].apply(lambda x: re.sub('[a-zA-Z/(/)!,]','',str(x)))\n",
    "surveydf2['cleaned_column0b'] = surveydf2['cleaned_column0'].apply(lambda x: re.sub('[:;-]',' ',str(x)))\n",
    "surveydf2['cleaned_column1'] = surveydf2['cleaned_column0b'].apply(lambda x: [float(num) for num in x.split(' ') if re.match('[0-9]',num)])\n",
    "surveydf2['cleaned_column1a'] = surveydf2['cleaned_column1'].apply(lambda x: ' | '.join(str(y) for y in x))\n",
    "surveydf2['cleaned_column1b'] = surveydf2['cleaned_column1'].apply(lambda x: [np.nan] if len(x)==0 else x)\n",
    "surveydf2['numerical_final_sleep'] = surveydf2['cleaned_column1b'].apply(lambda x: x[0]+x[1]/60 if len(x)>1 else x[0])\n",
    "\n",
    "display(surveydf2.tail())\n",
    "print(surveydf2['cleaned_column0'].unique())\n",
    "print('*'*30)\n",
    "print(surveydf2['numerical_final_sleep'].unique())"
   ],
   "metadata": {
    "collapsed": false,
    "pycharm": {
     "name": "#%%\n"
    }
   }
  },
  {
   "cell_type": "markdown",
   "source": [
    "## Extract wanted surveydf columns"
   ],
   "metadata": {
    "collapsed": false
   }
  },
  {
   "cell_type": "code",
   "execution_count": null,
   "outputs": [],
   "source": [
    "surveydf1.columns"
   ],
   "metadata": {
    "collapsed": false,
    "pycharm": {
     "name": "#%%\n"
    }
   }
  },
  {
   "cell_type": "code",
   "execution_count": null,
   "outputs": [],
   "source": [
    "surveydf1 = surveydf1[['description', 'key', 'numerical_final_workout']]"
   ],
   "metadata": {
    "collapsed": false,
    "pycharm": {
     "name": "#%%\n"
    }
   }
  },
  {
   "cell_type": "code",
   "execution_count": null,
   "outputs": [],
   "source": [
    "surveydf2.columns"
   ],
   "metadata": {
    "collapsed": false,
    "pycharm": {
     "name": "#%%\n"
    }
   }
  },
  {
   "cell_type": "code",
   "execution_count": null,
   "outputs": [],
   "source": [
    "surveydf2 = surveydf2[['description', 'key', 'numerical_final_sleep']]"
   ],
   "metadata": {
    "collapsed": false,
    "pycharm": {
     "name": "#%%\n"
    }
   }
  },
  {
   "cell_type": "code",
   "execution_count": null,
   "outputs": [],
   "source": [
    "sleep_data = survey[survey.description ==  'Numeric answer for number of hours of sleep for participant on night before the run']\n",
    "temp_sleep = sleep_data['numerical_ans'].dropna()\n",
    "rows_select=temp_sleep.index\n",
    "\n",
    "for i in temp_sleep:\n",
    "    surveydf2.loc[rows_select,'numerical_final_sleep'] = temp_sleep"
   ],
   "metadata": {
    "collapsed": false,
    "pycharm": {
     "name": "#%%\n"
    }
   }
  },
  {
   "cell_type": "code",
   "execution_count": null,
   "outputs": [],
   "source": [
    "plt.figure(figsize=(10,6))\n",
    "sns.heatmap(surveydf2.isnull(), cbar=False)\n",
    "\n",
    "surveydf2[surveydf2.isna().any(axis=1)]"
   ],
   "metadata": {
    "collapsed": false,
    "pycharm": {
     "name": "#%%\n"
    }
   }
  },
  {
   "cell_type": "code",
   "execution_count": null,
   "outputs": [],
   "source": [
    "import itertools\n",
    "missing_sleep_1991 = surveydf2[surveydf2['key'].str.contains(r'1991')].mean()\n",
    "missing_sleep_1991 = [missing_sleep_1991[1]]\n",
    "missing_sleep_1995 =[5.5,7] # typo\n",
    "missing_sleep_2064 = surveydf2[surveydf2['key'].str.contains(r'2064')].mean(skipna=True)\n",
    "missing_sleep_2064=[missing_sleep_2064[1]]*30\n",
    "\n",
    "sleep_values_to_add = missing_sleep_1991+missing_sleep_1995+missing_sleep_2064"
   ],
   "metadata": {
    "collapsed": false,
    "pycharm": {
     "name": "#%%\n"
    }
   }
  },
  {
   "cell_type": "code",
   "execution_count": null,
   "outputs": [],
   "source": [
    "temp_rows = surveydf2[surveydf2.isna().any(axis=1)].index\n",
    "for i in sleep_values_to_add:\n",
    "    surveydf2.loc[temp_rows,'numerical_final_sleep'] = sleep_values_to_add"
   ],
   "metadata": {
    "collapsed": false,
    "pycharm": {
     "name": "#%%\n"
    }
   }
  },
  {
   "cell_type": "code",
   "execution_count": null,
   "outputs": [],
   "source": [
    "plt.figure(figsize=(10,6))\n",
    "sns.heatmap(surveydf2.isnull(), cbar=False)"
   ],
   "metadata": {
    "collapsed": false,
    "pycharm": {
     "name": "#%%\n"
    }
   }
  },
  {
   "cell_type": "markdown",
   "source": [
    "## Read in Garmin Data"
   ],
   "metadata": {
    "collapsed": false
   }
  },
  {
   "cell_type": "code",
   "execution_count": null,
   "outputs": [],
   "source": [
    "garmin = pd.read_csv('garmindata.csv')\n",
    "\n",
    "#how many observations\n",
    "print(garmin.SubjectID.count())\n",
    "#unique ID\n",
    "print(len(pd.unique(garmin['SubjectID'])))\n",
    "\n",
    "garmin.head()"
   ],
   "metadata": {
    "collapsed": false,
    "pycharm": {
     "name": "#%%\n"
    }
   }
  },
  {
   "cell_type": "code",
   "execution_count": null,
   "outputs": [],
   "source": [
    "#Lets explore this data\n",
    "\n",
    "#Drop 2 first columns\n",
    "garmin.drop(garmin.columns[[0, 1]], axis=1, inplace=True)"
   ],
   "metadata": {
    "collapsed": false,
    "pycharm": {
     "name": "#%%\n"
    }
   }
  },
  {
   "cell_type": "code",
   "execution_count": null,
   "outputs": [],
   "source": [
    "#Create key variables\n",
    "\n",
    "#For a unique observation, we can make a key variable concatenating  (SubjectID, Year and Date)\n",
    "cols = ['SubjectID', 'Year', 'Date'] #This key variable might help to find same observation in the survey database\n",
    "garmin['key'] = garmin[cols].apply(lambda row: '_'.join(row.values.astype(str)), axis=1)\n",
    "\n",
    "#unique ID\n",
    "print(len(pd.unique(garmin['key'])))\n",
    "#average observations per runner\n",
    "print(len(pd.unique(garmin['key']))/37)\n",
    "#data per observation\n",
    "garmin.groupby('key')['SubjectID'].count()\n"
   ],
   "metadata": {
    "collapsed": false,
    "pycharm": {
     "name": "#%%\n"
    }
   }
  },
  {
   "cell_type": "code",
   "execution_count": null,
   "outputs": [],
   "source": [
    "#average data per observation\n",
    "sum(garmin.groupby('key')['SubjectID'].count())/len(garmin.groupby('key')['SubjectID'].count())\n"
   ],
   "metadata": {
    "collapsed": false,
    "pycharm": {
     "name": "#%%\n"
    }
   }
  },
  {
   "cell_type": "code",
   "execution_count": null,
   "outputs": [],
   "source": [
    "garmin.info()"
   ],
   "metadata": {
    "collapsed": false,
    "pycharm": {
     "name": "#%%\n"
    }
   }
  },
  {
   "cell_type": "code",
   "execution_count": null,
   "outputs": [],
   "source": [
    "garmin.columns"
   ],
   "metadata": {
    "collapsed": false,
    "pycharm": {
     "name": "#%%\n"
    }
   }
  },
  {
   "cell_type": "code",
   "execution_count": null,
   "outputs": [],
   "source": [
    "garmin = garmin[['SubjectID', 'Year', 'Date', 'key', 'record.altitude[m]', 'record.distance[m]',\n",
    "       'record.heart_rate[bpm]', 'record.position_lat[semicircles]',\n",
    "       'record.position_long[semicircles]', 'record.speed[m/s]',\n",
    "       'record.timestamp[s]']]"
   ],
   "metadata": {
    "collapsed": false,
    "pycharm": {
     "name": "#%%\n"
    }
   }
  },
  {
   "cell_type": "markdown",
   "source": [
    "## Join garmin and surveydf tables - inner join for match on key with data from surveydf"
   ],
   "metadata": {
    "collapsed": false
   }
  },
  {
   "cell_type": "code",
   "execution_count": null,
   "outputs": [],
   "source": [
    "combined_workout= garmin.merge(surveydf1, on = 'key', how = 'left')\n",
    "combined_workout = combined_workout.dropna()\n",
    "combined_workout.head(5)"
   ],
   "metadata": {
    "collapsed": false,
    "pycharm": {
     "name": "#%%\n"
    }
   }
  },
  {
   "cell_type": "code",
   "execution_count": null,
   "outputs": [],
   "source": [
    "combined_sleep = garmin.merge(surveydf2, on = 'key', how = 'left')\n",
    "combined_sleep= combined_sleep.dropna()\n",
    "combined_sleep.head(5)"
   ],
   "metadata": {
    "collapsed": false,
    "pycharm": {
     "name": "#%%\n"
    }
   }
  },
  {
   "cell_type": "markdown",
   "source": [
    "### If we look at combined descriptions, match on same SubjectIDs and Keys to find Subjects that have entries for both descriptions (Sleep and Workout)"
   ],
   "metadata": {
    "collapsed": false
   }
  },
  {
   "cell_type": "code",
   "execution_count": null,
   "outputs": [],
   "source": [
    "combined_workout2 = combined_workout.drop_duplicates(subset=['key', 'numerical_final_workout'])"
   ],
   "metadata": {
    "collapsed": false,
    "pycharm": {
     "name": "#%%\n"
    }
   }
  },
  {
   "cell_type": "code",
   "execution_count": null,
   "outputs": [],
   "source": [
    "combined_workout2[['key', 'numerical_final_workout']]"
   ],
   "metadata": {
    "collapsed": false,
    "pycharm": {
     "name": "#%%\n"
    }
   }
  },
  {
   "cell_type": "code",
   "execution_count": null,
   "outputs": [],
   "source": [
    "total_combined = pd.merge(combined_sleep, combined_workout2[['key', 'numerical_final_workout']], on='key')\n",
    "total_combined.key.unique()"
   ],
   "metadata": {
    "collapsed": false,
    "pycharm": {
     "name": "#%%\n"
    }
   }
  },
  {
   "cell_type": "code",
   "execution_count": null,
   "outputs": [],
   "source": [
    "plt.figure(figsize=(10,6))\n",
    "sns.heatmap(total_combined.isnull(), cbar=False)\n"
   ],
   "metadata": {
    "collapsed": false,
    "pycharm": {
     "name": "#%%\n"
    }
   }
  },
  {
   "cell_type": "code",
   "execution_count": null,
   "outputs": [],
   "source": [
    "total_combined.drop(['record.position_lat[semicircles]',\n",
    "                    'record.position_long[semicircles]',\n",
    "                    'description'],axis=1,inplace=True)"
   ],
   "metadata": {
    "collapsed": false,
    "pycharm": {
     "name": "#%%\n"
    }
   }
  },
  {
   "cell_type": "code",
   "execution_count": null,
   "outputs": [],
   "source": [
    "total_combined.head(10)"
   ],
   "metadata": {
    "collapsed": false,
    "pycharm": {
     "name": "#%%\n"
    }
   }
  },
  {
   "cell_type": "code",
   "execution_count": null,
   "outputs": [],
   "source": [
    "total_combined.info()"
   ],
   "metadata": {
    "collapsed": false,
    "pycharm": {
     "name": "#%%\n"
    }
   }
  },
  {
   "cell_type": "code",
   "execution_count": null,
   "outputs": [],
   "source": [
    "# total_combined.to_csv('garmin_sub.csv',index=False)"
   ],
   "metadata": {
    "collapsed": false,
    "pycharm": {
     "name": "#%%\n"
    }
   }
  },
  {
   "cell_type": "code",
   "execution_count": null,
   "outputs": [],
   "source": [
    "# sns.set_style(\"whitegrid\")\n",
    "# subject58 = total_combined[total_combined['SubjectID']==58]\n",
    "# subject58\n",
    "# sns.displot(data=subject58,y=\"record.timestamp[s]\",x='record.heart_rate[bpm]')"
   ],
   "metadata": {
    "collapsed": false,
    "pycharm": {
     "name": "#%%\n"
    }
   }
  },
  {
   "cell_type": "code",
   "execution_count": null,
   "outputs": [],
   "source": [
    "total_combined.SubjectID.unique() # 16 runners"
   ],
   "metadata": {
    "collapsed": false,
    "pycharm": {
     "name": "#%%\n"
    }
   }
  },
  {
   "cell_type": "code",
   "execution_count": null,
   "outputs": [],
   "source": [
    "total_combined['pace[min/Km]'] = total_combined['record.timestamp[s]']/total_combined['record.distance[m]']*16.667\n",
    "total_combined.head()"
   ],
   "metadata": {
    "collapsed": false,
    "pycharm": {
     "name": "#%%\n"
    }
   }
  },
  {
   "cell_type": "code",
   "execution_count": null,
   "outputs": [],
   "source": [
    "total_combined.describe()"
   ],
   "metadata": {
    "collapsed": false,
    "pycharm": {
     "name": "#%%\n"
    }
   }
  },
  {
   "cell_type": "code",
   "execution_count": null,
   "outputs": [],
   "source": [
    "total_combined[(total_combined == np.inf).any(axis=1)]"
   ],
   "metadata": {
    "collapsed": false,
    "pycharm": {
     "name": "#%%\n"
    }
   }
  },
  {
   "cell_type": "code",
   "execution_count": null,
   "outputs": [],
   "source": [
    "total_combined['pace[min/Km]'].replace(np.inf, 0,inplace=True)"
   ],
   "metadata": {
    "collapsed": false,
    "pycharm": {
     "name": "#%%\n"
    }
   }
  },
  {
   "cell_type": "code",
   "execution_count": null,
   "outputs": [],
   "source": [
    "total_combined.describe()"
   ],
   "metadata": {
    "collapsed": false,
    "pycharm": {
     "name": "#%%\n"
    }
   }
  },
  {
   "cell_type": "code",
   "execution_count": null,
   "outputs": [],
   "source": [
    "distance_bins = [0,5137.28,25000]\n",
    "total_combined[\"binned_dist\"] = pd.cut(total_combined['record.distance[m]'], distance_bins)\n",
    "\n",
    "#bin the sleep survey datatable\n",
    "sleep_bins = [0,5,8,18]\n",
    "total_combined[\"binned_sleep\"] = pd.cut(total_combined['numerical_final_sleep'], sleep_bins)\n",
    "total_combined.head()"
   ],
   "metadata": {
    "collapsed": false,
    "pycharm": {
     "name": "#%%\n"
    }
   }
  },
  {
   "cell_type": "code",
   "execution_count": null,
   "outputs": [],
   "source": [
    "total_combined['binned_sleep'].value_counts()"
   ],
   "metadata": {
    "collapsed": false,
    "pycharm": {
     "name": "#%%\n"
    }
   }
  },
  {
   "cell_type": "code",
   "execution_count": null,
   "outputs": [],
   "source": [
    "total_combined['binned_dist'].value_counts()"
   ],
   "metadata": {
    "collapsed": false,
    "pycharm": {
     "name": "#%%\n"
    }
   }
  },
  {
   "cell_type": "code",
   "execution_count": null,
   "outputs": [],
   "source": [
    "runners_max = total_combined.groupby(['SubjectID','Date']).max()\n",
    "runners_max"
   ],
   "metadata": {
    "collapsed": false,
    "pycharm": {
     "name": "#%%\n"
    }
   }
  },
  {
   "cell_type": "code",
   "execution_count": null,
   "outputs": [],
   "source": [
    "sns.set(style=\"darkgrid\")\n",
    "rpe_bins = np.arange(1,10,1)\n",
    "slp_bins = np.arange(1,13,1)\n",
    "fig, axs = plt.subplots(2, 2, figsize=(10, 10))\n",
    "\n",
    "sns.histplot(data=runners_max,x='record.distance[m]',kde=True,ax=axs[0,0],color='#fb8500')\n",
    "axs[0,0].set_xlabel(\"Distance Ran (m)\")\n",
    "\n",
    "sns.histplot(data=runners_max[runners_max['record.heart_rate[bpm]']>=100],x='record.heart_rate[bpm]',kde=True,\n",
    "             ax=axs[0,1],color=\"#023047\")\n",
    "axs[0,1].set_xlabel(\"Heart Rate (bpm)\")\n",
    "\n",
    "sns.histplot(data=runners_max,x='numerical_final_sleep',ax=axs[1,0],color=\"#219ebc\",bins=slp_bins)\n",
    "plt.sca(axs[1, 0])\n",
    "plt.xticks((slp_bins[:-1] +slp_bins[1:])/2,labels=((slp_bins[:-1] +slp_bins[1:])//2).astype(int))\n",
    "plt.xlim(1,13)\n",
    "axs[1,0].set_xlabel(\"Hours of sleep (Hr)\")\n",
    "axs[0,1].set(ylabel=None)\n",
    "\n",
    "sns.histplot(data=runners_max,x='numerical_final_workout',ax=axs[1,1],bins=rpe_bins,color=\"#e63946\")\n",
    "plt.sca(axs[1, 1])\n",
    "plt.xticks((rpe_bins[:-1] +rpe_bins[1:])/2,labels= ((rpe_bins[:-1] +rpe_bins[1:])//2).astype(int))\n",
    "plt.xlim(1,9)\n",
    "axs[1,1].set_xlabel(\"RPE\")\n",
    "axs[1,1].set(ylabel=None)\n",
    "\n",
    "plt.show()\n"
   ],
   "metadata": {
    "collapsed": false,
    "pycharm": {
     "name": "#%%\n"
    }
   }
  },
  {
   "cell_type": "code",
   "execution_count": null,
   "outputs": [],
   "source": [
    "low_sleep = total_combined[total_combined['numerical_final_sleep']<=6]\n",
    "# low_sleep[low_sleep['numerical_final_sleep']==4]['SubjectID'].unique()\n",
    "# 514 1990 2065\n",
    "\n",
    "low_sleep['SubjectID'].unique()"
   ],
   "metadata": {
    "collapsed": false,
    "pycharm": {
     "name": "#%%\n"
    }
   }
  },
  {
   "cell_type": "code",
   "execution_count": null,
   "outputs": [],
   "source": [
    "subject514 = total_combined[total_combined['SubjectID']==514]\n",
    "\n",
    "subject514.describe() # 34 runs"
   ],
   "metadata": {
    "collapsed": false,
    "pycharm": {
     "name": "#%%\n"
    }
   }
  },
  {
   "cell_type": "code",
   "execution_count": null,
   "outputs": [],
   "source": [
    "subject1990 = total_combined[total_combined['SubjectID']==1990]\n",
    "\n",
    "subject1990.describe() # 17 runs"
   ],
   "metadata": {
    "collapsed": false,
    "pycharm": {
     "name": "#%%\n"
    }
   }
  },
  {
   "cell_type": "code",
   "execution_count": null,
   "outputs": [],
   "source": [
    "subject2065 = total_combined[total_combined['SubjectID']==2065]\n",
    "\n",
    "subject2065.describe() # 68"
   ],
   "metadata": {
    "collapsed": false,
    "pycharm": {
     "name": "#%%\n"
    }
   }
  },
  {
   "cell_type": "code",
   "execution_count": null,
   "outputs": [],
   "source": [
    "subject514_stats = pd.DataFrame({'Stats':['Distance','Speed','Pace','Heart Rate','Time','Sleep','RPE'],\n",
    "                                 'Average':[9231.60,2.21,7.47,132.61,4125.83/60,7.21,3.77],\n",
    "                                 'Max':[42299.55,6.55,28.49,197,18274/60,9,7]})\n",
    "subject514_stats['proportion']=subject514_stats['Average']/subject514_stats['Max']\n",
    "subject514_stats['total']=1\n",
    "subject514_stats"
   ],
   "metadata": {
    "collapsed": false,
    "pycharm": {
     "name": "#%%\n"
    }
   }
  },
  {
   "cell_type": "code",
   "execution_count": null,
   "outputs": [],
   "source": [
    "f, ax = plt.subplots()\n",
    "sns.barplot(x='total',y='Stats',data=subject514_stats,label=\"Max\",color='#d6d6d6')\n",
    "sns.barplot(x='proportion',y=\"Stats\",data=subject514_stats,color='#57cc99')\n",
    "sns.despine(left=True, bottom=True)\n",
    "ax.set(xlim=(0, 1), ylabel=\"\",title='Patient514')\n",
    "ax.axes.xaxis.set_visible(False)"
   ],
   "metadata": {
    "collapsed": false,
    "pycharm": {
     "name": "#%%\n"
    }
   }
  },
  {
   "cell_type": "code",
   "execution_count": null,
   "outputs": [],
   "source": [
    "subject1990.groupby('Date').max() # 602 low sleep & 512 = 8 sleep"
   ],
   "metadata": {
    "collapsed": false,
    "pycharm": {
     "name": "#%%\n"
    }
   }
  },
  {
   "cell_type": "code",
   "execution_count": null,
   "outputs": [],
   "source": [
    "subject1990_sub = subject1990[(subject1990['Date']==602) | (subject1990['Date']==512)]"
   ],
   "metadata": {
    "collapsed": false,
    "pycharm": {
     "name": "#%%\n"
    }
   }
  },
  {
   "cell_type": "code",
   "execution_count": null,
   "outputs": [],
   "source": [
    "subject1990_sub['minute']= subject1990['record.timestamp[s]']/60"
   ],
   "metadata": {
    "collapsed": false,
    "pycharm": {
     "name": "#%%\n"
    }
   }
  },
  {
   "cell_type": "code",
   "execution_count": null,
   "outputs": [],
   "source": [
    "fig, axs = plt.subplots(figsize=(10,5))\n",
    "ax = sns.lineplot(data=subject1990_sub,x=\"minute\",y='record.heart_rate[bpm]',hue='Date',\n",
    "             palette=['#ff6d00','#9b5de5'])\n",
    "\n",
    "l1 = ax.lines[0]\n",
    "l2 = ax.lines[1]\n",
    "x1 = l1.get_xydata()[:,0]\n",
    "y1 = l1.get_xydata()[:,1]\n",
    "x2 = l2.get_xydata()[:,0]\n",
    "y2 = l2.get_xydata()[:,1]\n",
    "ax.fill_between(x2,y2, color=\"#9b5de5\", alpha=0.3)\n",
    "ax.fill_between(x1,y1, color=\"#ff6d00\", alpha=0.3)\n",
    "ax.set(ylabel=\"Heart Rate (bpm)\",xlabel='Time(Minute)')\n",
    "plt.title('Heart Rate Changes During the Run (Runner ID: 1990)',loc='left',fontsize=15)\n",
    "plt.ylim(70,200)\n",
    "\n",
    "# plt.legend([\"8 Hours\", \"4 Hours\"])"
   ],
   "metadata": {
    "collapsed": false,
    "pycharm": {
     "name": "#%%\n"
    }
   }
  },
  {
   "cell_type": "code",
   "execution_count": null,
   "outputs": [],
   "source": [
    "fig, axs = plt.subplots(figsize=(10,5))\n",
    "ax = sns.lineplot(data=subject1990_sub,x=\"minute\",y='pace[min/Km]',hue='Date',\n",
    "             palette=['#f72585','#2c7da0'])\n",
    "\n",
    "l1 = ax.lines[0]\n",
    "l2 = ax.lines[1]\n",
    "x1 = l1.get_xydata()[:,0]\n",
    "y1 = l1.get_xydata()[:,1]\n",
    "x2 = l2.get_xydata()[:,0]\n",
    "y2 = l2.get_xydata()[:,1]\n",
    "ax.fill_between(x2,y2, color=\"#2c7da0\", alpha=0.3)\n",
    "ax.fill_between(x1,y1, color=\"#f72585\", alpha=0.3)\n",
    "ax.set(ylabel=\"Pace [min/Km]\",xlabel='Time(minutes)')\n",
    "plt.title('Pace During the Run (Runner ID: 1990)',loc='left',fontsize=15)\n",
    "plt.legend([\"8 Hours\", \"4 Hours\"])"
   ],
   "metadata": {
    "collapsed": false,
    "pycharm": {
     "name": "#%%\n"
    }
   }
  },
  {
   "cell_type": "code",
   "execution_count": null,
   "outputs": [],
   "source": [
    "fig, axs = plt.subplots(figsize=(15,5))\n",
    "ax = sns.lineplot(data=subject1990_sub,x=\"record.timestamp[s]\",y='record.altitude[m]',hue='Date',\n",
    "             palette=['#f72585','#2c7da0'])\n",
    "\n",
    "l1 = ax.lines[0]\n",
    "l2 = ax.lines[1]\n",
    "x1 = l1.get_xydata()[:,0]\n",
    "y1 = l1.get_xydata()[:,1]\n",
    "x2 = l2.get_xydata()[:,0]\n",
    "y2 = l2.get_xydata()[:,1]\n",
    "ax.fill_between(x2,y2, color=\"#2c7da0\", alpha=0.3)\n",
    "ax.fill_between(x1,y1, color=\"#f72585\", alpha=0.3)\n",
    "ax.set(ylabel=\"Pace[min/Km]\",xlabel='Time(seconds)')\n",
    "plt.title('Pace During the Run (Subject ID: 514)',loc='left',fontsize=20)\n",
    "plt.legend([\"8 Hours\", \"4 Hours\"])"
   ],
   "metadata": {
    "collapsed": false,
    "pycharm": {
     "name": "#%%\n"
    }
   }
  },
  {
   "cell_type": "code",
   "execution_count": null,
   "outputs": [],
   "source": [
    "subject514.groupby('Date').max() # 616 609 low 526 804"
   ],
   "metadata": {
    "collapsed": false,
    "pycharm": {
     "name": "#%%\n"
    }
   }
  },
  {
   "cell_type": "code",
   "execution_count": null,
   "outputs": [],
   "source": [
    "subject514_sub = subject514[(subject514['Date']==609) | (subject514['Date']==804)]"
   ],
   "metadata": {
    "collapsed": false,
    "pycharm": {
     "name": "#%%\n"
    }
   }
  },
  {
   "cell_type": "code",
   "execution_count": null,
   "outputs": [],
   "source": [
    "subject514_sub['minute'] = subject514_sub['record.timestamp[s]']/60"
   ],
   "metadata": {
    "collapsed": false,
    "pycharm": {
     "name": "#%%\n"
    }
   }
  },
  {
   "cell_type": "code",
   "execution_count": null,
   "outputs": [],
   "source": [
    "fig, axs = plt.subplots(figsize=(10,5))\n",
    "ax = sns.lineplot(data=subject514_sub,x=\"minute\",y='record.heart_rate[bpm]',hue='Date',\n",
    "             palette=['#9b5de5','#ff6d00'])\n",
    "\n",
    "l1 = ax.lines[0]\n",
    "l2 = ax.lines[1]\n",
    "x1 = l1.get_xydata()[:,0]\n",
    "y1 = l1.get_xydata()[:,1]\n",
    "x2 = l2.get_xydata()[:,0]\n",
    "y2 = l2.get_xydata()[:,1]\n",
    "ax.fill_between(x2,y2, color=\"#ff6d00\", alpha=0.3)\n",
    "ax.fill_between(x1,y1, color=\"#9b5de5\", alpha=0.3)\n",
    "ax.set(ylabel=\"Heart Rate (bpm)\",xlabel='Time(minutes)')\n",
    "plt.title('Heart Rate Changes During the Run (Subject ID: 514)',loc='left',fontsize=20)\n",
    "plt.ylim(40,180)\n",
    "handles, labels = plt.gca().get_legend_handles_labels()\n",
    "order = [1,0]\n",
    "plt.legend([handles[idx] for idx in order],[labels[idx] for idx in order])"
   ],
   "metadata": {
    "collapsed": false,
    "pycharm": {
     "name": "#%%\n"
    }
   }
  },
  {
   "cell_type": "code",
   "execution_count": null,
   "outputs": [],
   "source": [
    "fig, axs = plt.subplots(figsize=(10,5))\n",
    "ax = sns.lineplot(data=subject514_sub,x=\"minute\",y='pace[min/Km]',hue='Date',\n",
    "             palette=['#2c7da0','#f72585'])\n",
    "\n",
    "l1 = ax.lines[0]\n",
    "l2 = ax.lines[1]\n",
    "x1 = l1.get_xydata()[:,0]\n",
    "y1 = l1.get_xydata()[:,1]\n",
    "x2 = l2.get_xydata()[:,0]\n",
    "y2 = l2.get_xydata()[:,1]\n",
    "ax.fill_between(x2,y2, color=\"#f72585\", alpha=0.3)\n",
    "ax.fill_between(x1,y1, color=\"#2c7da0\", alpha=0.3)\n",
    "ax.set(ylabel=\"Pace [min/Km]\",xlabel='Time(minutes)')\n",
    "# plt.title('Pace During the Run (Subject ID: 1990)',loc='left',fontsize=20)\n",
    "# plt.legend([\"4 Hours\", \"8 Hours\"])\n",
    "handles, labels = plt.gca().get_legend_handles_labels()\n",
    "order = [1,0]\n",
    "plt.legend([handles[idx] for idx in order],[labels[idx] for idx in order])"
   ],
   "metadata": {
    "collapsed": false,
    "pycharm": {
     "name": "#%%\n"
    }
   }
  },
  {
   "cell_type": "code",
   "execution_count": null,
   "outputs": [],
   "source": [
    "subject2065.groupby('Date').max().head(60)"
   ],
   "metadata": {
    "collapsed": false,
    "pycharm": {
     "name": "#%%\n"
    }
   }
  },
  {
   "cell_type": "code",
   "execution_count": null,
   "outputs": [],
   "source": [
    "subject2065_sub = subject2065[(subject2065['Date']==602) | (subject2065['Date']==616) |(subject2065['Date']==611) |\n",
    "                              (subject2065['Date']==705) |(subject2065['Date']==922) |(subject2065['Date']==929) |\n",
    "                              (subject2065['Date']==824) |(subject2065['Date']==1015) |(subject2065['Date']==1017)]"
   ],
   "metadata": {
    "collapsed": false,
    "pycharm": {
     "name": "#%%\n"
    }
   }
  },
  {
   "cell_type": "code",
   "execution_count": null,
   "outputs": [],
   "source": [
    "subject2065_sub.groupby('Date').max()"
   ],
   "metadata": {
    "collapsed": false,
    "pycharm": {
     "name": "#%%\n"
    }
   }
  },
  {
   "cell_type": "code",
   "execution_count": null,
   "outputs": [],
   "source": [
    "subject2065_low_sleep = subject2065[subject2065['numerical_final_sleep']<=6]\n",
    "subject2065_low_sleep=subject2065_low_sleep.groupby('Date').max()\n",
    "subject2065_low_sleep"
   ],
   "metadata": {
    "collapsed": false,
    "pycharm": {
     "name": "#%%\n"
    }
   }
  },
  {
   "cell_type": "code",
   "execution_count": null,
   "outputs": [],
   "source": [
    "subject2065_low_sleep_long_run = subject2065_low_sleep[(subject2065_low_sleep['record.distance[m]']>=8000) &\n",
    "                                                       (subject2065_low_sleep['record.distance[m]']<=15000)]\n",
    "subject2065_low_sleep_long_run # 2.8"
   ],
   "metadata": {
    "collapsed": false,
    "pycharm": {
     "name": "#%%\n"
    }
   }
  },
  {
   "cell_type": "code",
   "execution_count": null,
   "outputs": [],
   "source": [
    "subject2065_filter = subject2065[(subject2065['Date']==510) | (subject2065['Date']==526) |(subject2065['Date']==609) |\n",
    "                              (subject2065['Date']==728) |(subject2065['Date']==1020) |(subject2065['Date']==1030)]\n",
    "subject2065_filter.isna().sum()"
   ],
   "metadata": {
    "collapsed": false,
    "pycharm": {
     "name": "#%%\n"
    }
   }
  },
  {
   "cell_type": "code",
   "execution_count": null,
   "outputs": [],
   "source": [
    "subject2065_filter['minute']= subject2065_filter['record.timestamp[s]']/60"
   ],
   "metadata": {
    "collapsed": false,
    "pycharm": {
     "name": "#%%\n"
    }
   }
  },
  {
   "cell_type": "code",
   "execution_count": null,
   "outputs": [],
   "source": [
    "test = subject2065_filter.groupby('record.timestamp[s]').mean()"
   ],
   "metadata": {
    "collapsed": false,
    "pycharm": {
     "name": "#%%\n"
    }
   }
  },
  {
   "cell_type": "code",
   "execution_count": null,
   "outputs": [],
   "source": [
    "test['rolling'] = test['record.heart_rate[bpm]'].rolling(7).sum()"
   ],
   "metadata": {
    "collapsed": false,
    "pycharm": {
     "name": "#%%\n"
    }
   }
  },
  {
   "cell_type": "code",
   "execution_count": null,
   "outputs": [],
   "source": [
    "test['sleep_cat'] = 'Low'"
   ],
   "metadata": {
    "collapsed": false,
    "pycharm": {
     "name": "#%%\n"
    }
   }
  },
  {
   "cell_type": "code",
   "execution_count": null,
   "outputs": [],
   "source": [
    "fig, axs = plt.subplots(figsize=(10,5))\n",
    "ax = sns.lineplot(data=test,x=\"minute\", y='record.heart_rate[bpm]',color='#f72585')\n",
    "# l1 = ax.lines[0]\n",
    "# l2 = ax.lines[1]\n",
    "# x1 = l1.get_xydata()[:,0]\n",
    "# y1 = l1.get_xydata()[:,1]\n",
    "# x2 = l2.get_xydata()[:,0]\n",
    "# y2 = l2.get_xydata()[:,1]\n",
    "# ax.fill_between(x2,y2, color=\"#9b5de5\", alpha=0.3)\n",
    "# ax.fill_between(x1,y1, color=\"#ff6d00\", alpha=0.3)\n",
    "ax.set(ylabel=\"Heart Rate (bpm)\",xlabel='Time(Minute)')\n",
    "plt.title('Average Heart Rate Changes over 6 Runs (Subject ID: 2065)',loc='left',fontsize=20)\n",
    "# plt.ylim(70,200)\n",
    "#\n",
    "# plt.legend([\"8 Hours\", \"4 Hours\"])\n"
   ],
   "metadata": {
    "collapsed": false,
    "pycharm": {
     "name": "#%%\n"
    }
   }
  },
  {
   "cell_type": "code",
   "execution_count": null,
   "outputs": [],
   "source": [
    "subject2065_norm_sleep = subject2065[(subject2065['numerical_final_sleep']>=7)&\n",
    "                                     (subject2065['numerical_final_sleep']<=8)]\n",
    "subject2065_norm_sleep= subject2065_norm_sleep.groupby('Date').max()"
   ],
   "metadata": {
    "collapsed": false,
    "pycharm": {
     "name": "#%%\n"
    }
   }
  },
  {
   "cell_type": "code",
   "execution_count": null,
   "outputs": [],
   "source": [
    "subject2065_norm_sleep_long_run = subject2065_norm_sleep[(subject2065_norm_sleep['record.distance[m]']>=8000) &\n",
    "                                                       (subject2065_norm_sleep['record.distance[m]']<=15000)]\n",
    "\n",
    "subject2065_norm_sleep_long_run.groupby('Date').max() # 12 runs 3.333 rpe"
   ],
   "metadata": {
    "collapsed": false,
    "pycharm": {
     "name": "#%%\n"
    }
   }
  },
  {
   "cell_type": "code",
   "execution_count": null,
   "outputs": [],
   "source": [
    "subject2065_filter_norm = subject2065[(subject2065['Date']==503) | (subject2065['Date']==519)|(subject2065['Date']==521)\n",
    "                                 | (subject2065['Date']==524) |(subject2065['Date']==607) |(subject2065['Date']==614) |\n",
    "                                 (subject2065['Date']==705) |(subject2065['Date']==718) |(subject2065['Date']==815) |\n",
    "                                 (subject2065['Date']==822) |(subject2065['Date']==901) |(subject2065['Date']==926) ]\n",
    "subject2065_filter_norm.isna().sum()"
   ],
   "metadata": {
    "collapsed": false,
    "pycharm": {
     "name": "#%%\n"
    }
   }
  },
  {
   "cell_type": "code",
   "execution_count": null,
   "outputs": [],
   "source": [
    "subject2065_filter_norm['minute']= subject2065_filter_norm['record.timestamp[s]']/60"
   ],
   "metadata": {
    "collapsed": false,
    "pycharm": {
     "name": "#%%\n"
    }
   }
  },
  {
   "cell_type": "code",
   "execution_count": null,
   "outputs": [],
   "source": [
    "test2 = subject2065_filter_norm.groupby('record.timestamp[s]').mean()"
   ],
   "metadata": {
    "collapsed": false,
    "pycharm": {
     "name": "#%%\n"
    }
   }
  },
  {
   "cell_type": "code",
   "execution_count": null,
   "outputs": [],
   "source": [
    "test2['sleep_cat'] = 'Normal'"
   ],
   "metadata": {
    "collapsed": false,
    "pycharm": {
     "name": "#%%\n"
    }
   }
  },
  {
   "cell_type": "code",
   "execution_count": null,
   "outputs": [],
   "source": [
    "test2"
   ],
   "metadata": {
    "collapsed": false,
    "pycharm": {
     "name": "#%%\n"
    }
   }
  },
  {
   "cell_type": "code",
   "execution_count": null,
   "outputs": [],
   "source": [
    "fig, axs = plt.subplots(figsize=(10,5))\n",
    "ax = sns.lineplot(data=test2,x=\"minute\", y='record.heart_rate[bpm]',color='#f72585')\n",
    "# l1 = ax.lines[0]\n",
    "# l2 = ax.lines[1]\n",
    "# x1 = l1.get_xydata()[:,0]\n",
    "# y1 = l1.get_xydata()[:,1]\n",
    "# x2 = l2.get_xydata()[:,0]\n",
    "# y2 = l2.get_xydata()[:,1]\n",
    "# ax.fill_between(x2,y2, color=\"#9b5de5\", alpha=0.3)\n",
    "# ax.fill_between(x1,y1, color=\"#ff6d00\", alpha=0.3)\n",
    "ax.set(ylabel=\"Heart Rate (bpm)\",xlabel='Time(Minute)')\n",
    "plt.title('Average Heart Rate Changes over 12 Runs (Subject ID: 2065)',loc='left',fontsize=20)\n",
    "# plt.ylim(70,200)\n",
    "#\n",
    "# plt.legend([\"8 Hours\", \"4 Hours\"])"
   ],
   "metadata": {
    "collapsed": false,
    "pycharm": {
     "name": "#%%\n"
    }
   }
  },
  {
   "cell_type": "code",
   "execution_count": null,
   "outputs": [],
   "source": [
    "subject2065_high_sleep = subject2065[subject2065['numerical_final_sleep']>8]\n",
    "subject2065_high_sleep= subject2065_high_sleep.groupby('Date').max()"
   ],
   "metadata": {
    "collapsed": false,
    "pycharm": {
     "name": "#%%\n"
    }
   }
  },
  {
   "cell_type": "code",
   "execution_count": null,
   "outputs": [],
   "source": [
    "subject2065_high_sleep_long_run = subject2065_high_sleep[subject2065_high_sleep['record.distance[m]']>=9000]\n",
    "subject2065_high_sleep_long_run.groupby('Date').max() # 6 runs RPE =3"
   ],
   "metadata": {
    "collapsed": false,
    "pycharm": {
     "name": "#%%\n"
    }
   }
  },
  {
   "cell_type": "code",
   "execution_count": null,
   "outputs": [],
   "source": [
    "subject2065_filter_high = subject2065[(subject2065['Date']==711) | (subject2065['Date']==725)|\n",
    "                                      (subject2065['Date']==801) | (subject2065['Date']==912) |\n",
    "                                      (subject2065['Date']==1017)|(subject2065['Date']==1024)]\n",
    "subject2065_filter_high.isna().sum()"
   ],
   "metadata": {
    "collapsed": false,
    "pycharm": {
     "name": "#%%\n"
    }
   }
  },
  {
   "cell_type": "code",
   "execution_count": null,
   "outputs": [],
   "source": [
    "subject2065_filter_high['minute']= subject2065_filter_high['record.timestamp[s]']/60"
   ],
   "metadata": {
    "collapsed": false,
    "pycharm": {
     "name": "#%%\n"
    }
   }
  },
  {
   "cell_type": "code",
   "execution_count": null,
   "outputs": [],
   "source": [
    "test3 = subject2065_filter_high.groupby('record.timestamp[s]').mean()"
   ],
   "metadata": {
    "collapsed": false,
    "pycharm": {
     "name": "#%%\n"
    }
   }
  },
  {
   "cell_type": "code",
   "execution_count": null,
   "outputs": [],
   "source": [
    "test3['sleep_cat'] = 'High'"
   ],
   "metadata": {
    "collapsed": false,
    "pycharm": {
     "name": "#%%\n"
    }
   }
  },
  {
   "cell_type": "code",
   "execution_count": null,
   "outputs": [],
   "source": [
    "fig, axs = plt.subplots(figsize=(10,5))\n",
    "ax = sns.lineplot(data=test3,x=\"minute\", y='record.heart_rate[bpm]',color='#f72585')\n",
    "# l1 = ax.lines[0]\n",
    "# l2 = ax.lines[1]\n",
    "# x1 = l1.get_xydata()[:,0]\n",
    "# y1 = l1.get_xydata()[:,1]\n",
    "# x2 = l2.get_xydata()[:,0]\n",
    "# y2 = l2.get_xydata()[:,1]\n",
    "# ax.fill_between(x2,y2, color=\"#9b5de5\", alpha=0.3)\n",
    "# ax.fill_between(x1,y1, color=\"#ff6d00\", alpha=0.3)\n",
    "ax.set(ylabel=\"Heart Rate (bpm)\",xlabel='Time(Minute)')\n",
    "plt.title('Average Heart Rate Changes over 6 Runs (Subject ID: 2065)',loc='left',fontsize=20)\n",
    "# plt.ylim(70,200)\n",
    "#\n",
    "# plt.legend([\"8 Hours\", \"4 Hours\"])"
   ],
   "metadata": {
    "collapsed": false,
    "pycharm": {
     "name": "#%%\n"
    }
   }
  },
  {
   "cell_type": "code",
   "execution_count": null,
   "outputs": [],
   "source": [
    "fig, axs = plt.subplots(figsize=(10,5))\n",
    "ax = sns.lineplot(data=test,x=\"minute\", y='record.heart_rate[bpm]',color='#2c7da0',label=\"<6\")\n",
    "ax1 = sns.lineplot(data=test2,x=\"minute\", y='record.heart_rate[bpm]',color='#f72585',label='7-8')\n",
    "ax2 = sns.lineplot(data=test3,x=\"minute\", y='record.heart_rate[bpm]',color='#ff6200',label='>8')\n",
    "l1 = ax.lines[0]\n",
    "l2 = ax.lines[1]\n",
    "l3 = ax.lines[2]\n",
    "x1 = l1.get_xydata()[:,0]\n",
    "y1 = l1.get_xydata()[:,1]\n",
    "x2 = l2.get_xydata()[:,0]\n",
    "y2 = l2.get_xydata()[:,1]\n",
    "x3 = l3.get_xydata()[:,0]\n",
    "y3 = l3.get_xydata()[:,1]\n",
    "\n",
    "ax2.fill_between(x3,y3, color=\"#ff6200\", alpha=0.3)\n",
    "ax1.fill_between(x2,y2, color=\"#f72585\", alpha=0.3)\n",
    "ax.fill_between(x1,y1, color=\"#2c7da0\", alpha=0.3)\n",
    "\n",
    "\n",
    "plt.ylim(60,150)\n",
    "ax.set(ylabel=\"Average Heart Rate (bpm)\",xlabel='Time(Minute)')\n",
    "plt.title('Average Heart Rate Changes During a Run (Runner ID: 2065)',loc='left',fontsize=15)\n",
    "plt.legend(title=\"Hours of Sleep\")"
   ],
   "metadata": {
    "collapsed": false,
    "pycharm": {
     "name": "#%%\n"
    }
   }
  },
  {
   "cell_type": "code",
   "execution_count": null,
   "outputs": [],
   "source": [
    "subject2065_filter['pace[min/Km]'] = subject2065_filter['pace[min/Km]'].fillna(0)\n",
    "subject2065_filter_norm['pace[min/Km]'] =  subject2065_filter_norm['pace[min/Km]'].fillna(0)"
   ],
   "metadata": {
    "collapsed": false,
    "pycharm": {
     "name": "#%%\n"
    }
   }
  },
  {
   "cell_type": "code",
   "execution_count": null,
   "outputs": [],
   "source": [
    "fig, axs = plt.subplots(figsize=(10,5))\n",
    "ax = sns.lineplot(data=test,x=\"minute\", y='pace[min/Km]',color='#2c7da0',label=\"<6\")\n",
    "ax1 = sns.lineplot(data=test2,x=\"minute\", y='pace[min/Km]',color='#f72585',label='7-8')\n",
    "ax2 = sns.lineplot(data=test3,x=\"minute\", y='pace[min/Km]',color='#ff6200',label='>8')\n",
    "l1 = ax.lines[0]\n",
    "l2 = ax.lines[1]\n",
    "l3 = ax.lines[2]\n",
    "x1 = l1.get_xydata()[:,0]\n",
    "y1 = l1.get_xydata()[:,1]\n",
    "x2 = l2.get_xydata()[:,0]\n",
    "y2 = l2.get_xydata()[:,1]\n",
    "x3 = l3.get_xydata()[:,0]\n",
    "y3 = l3.get_xydata()[:,1]\n",
    "\n",
    "ax.fill_between(x1,y1, color=\"#2c7da0\", alpha=0.3)\n",
    "ax1.fill_between(x2,y2, color=\"#f72585\", alpha=0.3)\n",
    "ax2.fill_between(x3,y3, color=\"#ff6200\", alpha=0.3)\n",
    "\n",
    "ax.set(ylabel=\"Average Pace (min/Km)\",xlabel='Time(Minute)')\n",
    "plt.title('Average Changes in Pace During a Run (Runner ID: 2065)',loc='left',fontsize=15)\n",
    "plt.legend(title=\"Hours of Sleep\")"
   ],
   "metadata": {
    "collapsed": false,
    "pycharm": {
     "name": "#%%\n"
    }
   }
  },
  {
   "cell_type": "code",
   "execution_count": null,
   "outputs": [],
   "source": [
    "fig, axs = plt.subplots(figsize=(10,5))\n",
    "ax = sns.scatterplot(data=test,x=\"minute\", y='record.heart_rate[bpm]',color='#2c7da0',label=\"<6\",alpha=0.5)\n",
    "ax1 = sns.scatterplot(data=test2,x=\"minute\", y='record.heart_rate[bpm]',color='#f72585',label='7-8',alpha=0.5)\n",
    "ax2 = sns.scatterplot(data=test3,x=\"minute\", y='record.heart_rate[bpm]',color='#ff6200',label='>8',alpha=0.5)"
   ],
   "metadata": {
    "collapsed": false,
    "pycharm": {
     "name": "#%%\n"
    }
   }
  }
 ],
 "metadata": {
  "kernelspec": {
   "display_name": "Python 3",
   "language": "python",
   "name": "python3"
  },
  "language_info": {
   "codemirror_mode": {
    "name": "ipython",
    "version": 2
   },
   "file_extension": ".py",
   "mimetype": "text/x-python",
   "name": "python",
   "nbconvert_exporter": "python",
   "pygments_lexer": "ipython2",
   "version": "2.7.6"
  }
 },
 "nbformat": 4,
 "nbformat_minor": 0
}