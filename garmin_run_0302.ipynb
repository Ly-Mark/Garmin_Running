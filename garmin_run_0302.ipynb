{
 "cells": [
  {
   "cell_type": "markdown",
   "source": [
    "## Imports"
   ],
   "metadata": {
    "collapsed": false
   }
  },
  {
   "cell_type": "code",
   "execution_count": 1,
   "outputs": [],
   "source": [
    "import numpy as np\n",
    "import pandas as pd\n",
    "import matplotlib.pyplot as plt\n",
    "from datetime import datetime\n",
    "from scipy.stats import norm\n",
    "import math\n",
    "import re\n",
    "# import sidetable\n",
    "import seaborn as sns\n",
    "from sklearn.impute import SimpleImputer"
   ],
   "metadata": {
    "collapsed": false,
    "pycharm": {
     "name": "#%%\n"
    }
   }
  },
  {
   "cell_type": "markdown",
   "source": [
    "## Read in Survey.csv"
   ],
   "metadata": {
    "collapsed": false
   }
  },
  {
   "cell_type": "code",
   "execution_count": 2,
   "outputs": [
    {
     "name": "stdout",
     "output_type": "stream",
     "text": [
      "5540\n",
      "37\n",
      "['Numeric answer for number of hours of sleep for participant on night before the run'\n",
      " 'Approximate time of day when run was performed'\n",
      " 'Type of surface (soft, hard, etc) for route that participant ran'\n",
      " 'General descriptions of running surface conditions (dry, wet, icy, etc)'\n",
      " 'RPE scale 1-10 of workout difficulty']\n"
     ]
    },
    {
     "data": {
      "text/plain": "   Unnamed: 0  Unnamed: 0.1  \\\n0           0             0   \n1           1             1   \n2           2             2   \n3           3             3   \n4           4             4   \n\n                                         description  \\\n0  Numeric answer for number of hours of sleep fo...   \n1     Approximate time of day when run was performed   \n2  Type of surface (soft, hard, etc) for route th...   \n3  General descriptions of running surface condit...   \n4               RPE scale 1-10 of workout difficulty   \n\n                     filename  \\\n0  58_20180811_surveydata.csv   \n1  58_20180811_surveydata.csv   \n2  58_20180811_surveydata.csv   \n3  58_20180811_surveydata.csv   \n4  58_20180811_surveydata.csv   \n\n                                               name  numerical_ans  \\\n0  MT Run Follow Up - Previous Nights Sleep (hours)            NaN   \n1                    MT Run Follow Up - Time of Run            NaN   \n2                        MT Run Follow Up - Surface            NaN   \n3             MT Run Follow Up - Surface Conditions            NaN   \n4           MT Run Follow Up - How Was Your Workout            NaN   \n\n                textual_ans  SubjectID  Year  Date      DataSource  \n0                       7.5         58  2018   811  surveydata.csv  \n1                8:03:00 AM         58  2018   811  surveydata.csv  \n2  Hard (sidewalk, asphalt)         58  2018   811  surveydata.csv  \n3                       Dry         58  2018   811  surveydata.csv  \n4              3 - Moderate         58  2018   811  surveydata.csv  ",
      "text/html": "<div>\n<style scoped>\n    .dataframe tbody tr th:only-of-type {\n        vertical-align: middle;\n    }\n\n    .dataframe tbody tr th {\n        vertical-align: top;\n    }\n\n    .dataframe thead th {\n        text-align: right;\n    }\n</style>\n<table border=\"1\" class=\"dataframe\">\n  <thead>\n    <tr style=\"text-align: right;\">\n      <th></th>\n      <th>Unnamed: 0</th>\n      <th>Unnamed: 0.1</th>\n      <th>description</th>\n      <th>filename</th>\n      <th>name</th>\n      <th>numerical_ans</th>\n      <th>textual_ans</th>\n      <th>SubjectID</th>\n      <th>Year</th>\n      <th>Date</th>\n      <th>DataSource</th>\n    </tr>\n  </thead>\n  <tbody>\n    <tr>\n      <th>0</th>\n      <td>0</td>\n      <td>0</td>\n      <td>Numeric answer for number of hours of sleep fo...</td>\n      <td>58_20180811_surveydata.csv</td>\n      <td>MT Run Follow Up - Previous Nights Sleep (hours)</td>\n      <td>NaN</td>\n      <td>7.5</td>\n      <td>58</td>\n      <td>2018</td>\n      <td>811</td>\n      <td>surveydata.csv</td>\n    </tr>\n    <tr>\n      <th>1</th>\n      <td>1</td>\n      <td>1</td>\n      <td>Approximate time of day when run was performed</td>\n      <td>58_20180811_surveydata.csv</td>\n      <td>MT Run Follow Up - Time of Run</td>\n      <td>NaN</td>\n      <td>8:03:00 AM</td>\n      <td>58</td>\n      <td>2018</td>\n      <td>811</td>\n      <td>surveydata.csv</td>\n    </tr>\n    <tr>\n      <th>2</th>\n      <td>2</td>\n      <td>2</td>\n      <td>Type of surface (soft, hard, etc) for route th...</td>\n      <td>58_20180811_surveydata.csv</td>\n      <td>MT Run Follow Up - Surface</td>\n      <td>NaN</td>\n      <td>Hard (sidewalk, asphalt)</td>\n      <td>58</td>\n      <td>2018</td>\n      <td>811</td>\n      <td>surveydata.csv</td>\n    </tr>\n    <tr>\n      <th>3</th>\n      <td>3</td>\n      <td>3</td>\n      <td>General descriptions of running surface condit...</td>\n      <td>58_20180811_surveydata.csv</td>\n      <td>MT Run Follow Up - Surface Conditions</td>\n      <td>NaN</td>\n      <td>Dry</td>\n      <td>58</td>\n      <td>2018</td>\n      <td>811</td>\n      <td>surveydata.csv</td>\n    </tr>\n    <tr>\n      <th>4</th>\n      <td>4</td>\n      <td>4</td>\n      <td>RPE scale 1-10 of workout difficulty</td>\n      <td>58_20180811_surveydata.csv</td>\n      <td>MT Run Follow Up - How Was Your Workout</td>\n      <td>NaN</td>\n      <td>3 - Moderate</td>\n      <td>58</td>\n      <td>2018</td>\n      <td>811</td>\n      <td>surveydata.csv</td>\n    </tr>\n  </tbody>\n</table>\n</div>"
     },
     "execution_count": 2,
     "metadata": {},
     "output_type": "execute_result"
    }
   ],
   "source": [
    "survey = pd.read_csv(\"surveydata.csv\")\n",
    "#how many observations\n",
    "print(survey.SubjectID.count())\n",
    "#unique ID\n",
    "print(len(pd.unique(survey['SubjectID'])))\n",
    "#unique description, 5 questions\n",
    "print(pd.unique(survey['description']))\n",
    "#print(max(survey['Unnamed:0']))\n",
    "survey.head()"
   ],
   "metadata": {
    "collapsed": false,
    "pycharm": {
     "name": "#%%\n"
    }
   }
  },
  {
   "cell_type": "markdown",
   "source": [
    "## We will pick these 2 descriptions:\n",
    "- 'Numeric answer for number of hours of sleep for participant on night before the run'\n",
    "- 'RPE scale 1-10 of workout difficulty'"
   ],
   "metadata": {
    "collapsed": false
   }
  },
  {
   "cell_type": "code",
   "execution_count": 3,
   "outputs": [
    {
     "name": "stdout",
     "output_type": "stream",
     "text": [
      "[      nan  7.5       6.        7.25      6.5       7.        0.270833\n",
      "  5.        0.229167 18.        8.        9.5       5.5       5.75\n",
      "  8.5       4.        6.25      0.173611]\n",
      "['7.5' '3 - Moderate' '8' '4 - Somewhat Hard' '7.50' '6.5' '7.00' '6' '7'\n",
      " '5' '2 - Easy' '6.5 hours' nan '7.5 hrs, good sleep !' '9.00' '6.50'\n",
      " '8.50' '8 hours 45 minutes' '6hours 41 minutes' '5 - Hard'\n",
      " '8 hours 20 minutes' '7 hours 13 minutes' '6 hours' '7 hours 21 minutes'\n",
      " '6:40' '5.5' '0.313888889' '7 hours, 56 minutes' '9 hours' '7 hours'\n",
      " '7 - Very Hard' '7 hours 50 minutes' '7 hours 15 minutes' '7.30'\n",
      " '6 hours 39 minutes' '6 hours 10 minutes' '6 hours 16 minutes'\n",
      " '8 hours 51 mnutes' '6 hours 48 minutes' '7 hours 12 minutes'\n",
      " '7 hours 49 minutes' '6 hours 13 minutes' '8 hours 30 minutes'\n",
      " '5hours 32minutes' '6 hours 34 minutes' '3' '1 - Very, Very Easy'\n",
      " '8 hours' '0.243055556' '5 hours 57 minutes' '7 hours 43 minutes'\n",
      " '5 hrs 56 minutes' '7.75' '7hours 10minutes' '5.75' '7 hours 20 minutes'\n",
      " '5.67' '6 hours 23 minutes' '6 hours 7 minutes' '7.25' '6.25' '4.00'\n",
      " '6.00' '6 hours 49 minutes' '0.261111111' '6hours 53 minutes'\n",
      " '7 hours 30 minutes' '8.00' '6 hours 40 minutes' '8 hours 35 minutes'\n",
      " '6 hours 20 minutes' '6 hours 21 minutes' '6hours 36 minutes' '5.00'\n",
      " '5.50' '6;30' '2.50' '0.364583333' '0.354861111' '6 hours 23 minutes '\n",
      " '0.302083333' '8.5' '0.3125' '2.00' '9 hrs' '8 hrs' '9hrs' '8hrs'\n",
      " '8.5hours' '4 hours' '7hours' '4hours' '6hours' '8.5hr' '8.5 hours'\n",
      " '3hrs' '9' '3.50' '1.50' '4.75' '4.50' '10.00' '5.25' '0.00' '0' '4'\n",
      " '8.0 (I did not sleep well at all)' '8.0 (poor sleep)' '7.5 and not well'\n",
      " '7.0 (bad sleep; nightmares)' '7.5 not good' '7.0 + 20 min nap'\n",
      " '8.0 but really poor sleep' '8.5 (I have some catching up to do!)'\n",
      " '7.5 (and I did not sleep well)' '8.0 but it was not a good sleep'\n",
      " \"Don't remember\" '6.75 and bad sleep' '7.0 (with some hot flashes)'\n",
      " '7.5-8' '8.0, but I woke up several times'\n",
      " '8 hours+ (I was really tired)' '6.30' '6.75' '6.74' '4.60' '5.33'\n",
      " '6 hours 52 min' '5.10' '5 hours' '5 hours 8 min' '6 hours 17 min'\n",
      " '4 hours 37 min' '6.60' '8.75' 'not enough 6ish'\n",
      " '6.5 (solid, but not enough)' 'not enough...5.5' '8.5hrs!!'\n",
      " 'not enough....7' '6hrs' '7 ish' '7.5hrs' '7.40' 'unsure' 'unknown'\n",
      " 'Unknown' 'Unsure' 'Not sure' 'not sure' '11.8' '10' '11'\n",
      " '7 hours 40 minutes' '8.4' '6.7' '4.25' '9.70' '4hrs 30min'\n",
      " '5hrs 44 mins' '7hr 36mins' '5hr 30 min']\n"
     ]
    }
   ],
   "source": [
    "surveydf = survey[(survey.description == 'Numeric answer for number of hours of sleep for participant on night before the run') |\n",
    "           (survey.description == 'RPE scale 1-10 of workout difficulty')]\n",
    "print(pd.unique(surveydf['numerical_ans']))\n",
    "print(pd.unique(surveydf['textual_ans']))\n"
   ],
   "metadata": {
    "collapsed": false,
    "pycharm": {
     "name": "#%%\n"
    }
   }
  },
  {
   "cell_type": "code",
   "execution_count": 4,
   "outputs": [
    {
     "name": "stderr",
     "output_type": "stream",
     "text": [
      "C:\\Users\\Mark\\anaconda3\\envs\\data624_hw2-Ly-Mark\\lib\\site-packages\\pandas\\core\\frame.py:4906: SettingWithCopyWarning: \n",
      "A value is trying to be set on a copy of a slice from a DataFrame\n",
      "\n",
      "See the caveats in the documentation: https://pandas.pydata.org/pandas-docs/stable/user_guide/indexing.html#returning-a-view-versus-a-copy\n",
      "  return super().drop(\n"
     ]
    }
   ],
   "source": [
    "#Lets clean this data\n",
    "\n",
    "#Drop 2 first columns\n",
    "surveydf.drop(surveydf.columns[[0, 1]], axis=1, inplace=True)"
   ],
   "metadata": {
    "collapsed": false,
    "pycharm": {
     "name": "#%%\n"
    }
   }
  },
  {
   "cell_type": "code",
   "execution_count": 5,
   "outputs": [
    {
     "name": "stdout",
     "output_type": "stream",
     "text": [
      "26\n"
     ]
    },
    {
     "name": "stderr",
     "output_type": "stream",
     "text": [
      "C:\\Users\\Mark\\AppData\\Local\\Temp/ipykernel_22516/2771317242.py:5: SettingWithCopyWarning: \n",
      "A value is trying to be set on a copy of a slice from a DataFrame.\n",
      "Try using .loc[row_indexer,col_indexer] = value instead\n",
      "\n",
      "See the caveats in the documentation: https://pandas.pydata.org/pandas-docs/stable/user_guide/indexing.html#returning-a-view-versus-a-copy\n",
      "  surveydf['key'] = surveydf[cols].apply(lambda row: '_'.join(row.values.astype(str)), axis=1)\n",
      "C:\\Users\\Mark\\AppData\\Local\\Temp/ipykernel_22516/2771317242.py:9: SettingWithCopyWarning: \n",
      "A value is trying to be set on a copy of a slice from a DataFrame.\n",
      "Try using .loc[row_indexer,col_indexer] = value instead\n",
      "\n",
      "See the caveats in the documentation: https://pandas.pydata.org/pandas-docs/stable/user_guide/indexing.html#returning-a-view-versus-a-copy\n",
      "  surveydf['key2'] = surveydf[cols2].apply(lambda row: '_'.join(row.values.astype(str)), axis=1)\n"
     ]
    },
    {
     "data": {
      "text/plain": "                                           description  \\\n462  Numeric answer for number of hours of sleep fo...   \n466  Numeric answer for number of hours of sleep fo...   \n\n                        filename  \\\n462  424_20170617_surveydata.csv   \n466  424_20170617_surveydata.csv   \n\n                                                 name  numerical_ans  \\\n462  MT Run Follow Up - Previous Nights Sleep (hours)            6.0   \n466  MT Run Follow Up - Previous Nights Sleep (hours)            NaN   \n\n    textual_ans  SubjectID  Year  Date      DataSource           key  \\\n462         NaN        424  2017   617  surveydata.csv  424_2017_617   \n466        6.00        424  2017   617  surveydata.csv  424_2017_617   \n\n                                                  key2  \n462  424_2017_617_Numeric answer for number of hour...  \n466  424_2017_617_Numeric answer for number of hour...  ",
      "text/html": "<div>\n<style scoped>\n    .dataframe tbody tr th:only-of-type {\n        vertical-align: middle;\n    }\n\n    .dataframe tbody tr th {\n        vertical-align: top;\n    }\n\n    .dataframe thead th {\n        text-align: right;\n    }\n</style>\n<table border=\"1\" class=\"dataframe\">\n  <thead>\n    <tr style=\"text-align: right;\">\n      <th></th>\n      <th>description</th>\n      <th>filename</th>\n      <th>name</th>\n      <th>numerical_ans</th>\n      <th>textual_ans</th>\n      <th>SubjectID</th>\n      <th>Year</th>\n      <th>Date</th>\n      <th>DataSource</th>\n      <th>key</th>\n      <th>key2</th>\n    </tr>\n  </thead>\n  <tbody>\n    <tr>\n      <th>462</th>\n      <td>Numeric answer for number of hours of sleep fo...</td>\n      <td>424_20170617_surveydata.csv</td>\n      <td>MT Run Follow Up - Previous Nights Sleep (hours)</td>\n      <td>6.0</td>\n      <td>NaN</td>\n      <td>424</td>\n      <td>2017</td>\n      <td>617</td>\n      <td>surveydata.csv</td>\n      <td>424_2017_617</td>\n      <td>424_2017_617_Numeric answer for number of hour...</td>\n    </tr>\n    <tr>\n      <th>466</th>\n      <td>Numeric answer for number of hours of sleep fo...</td>\n      <td>424_20170617_surveydata.csv</td>\n      <td>MT Run Follow Up - Previous Nights Sleep (hours)</td>\n      <td>NaN</td>\n      <td>6.00</td>\n      <td>424</td>\n      <td>2017</td>\n      <td>617</td>\n      <td>surveydata.csv</td>\n      <td>424_2017_617</td>\n      <td>424_2017_617_Numeric answer for number of hour...</td>\n    </tr>\n  </tbody>\n</table>\n</div>"
     },
     "execution_count": 5,
     "metadata": {},
     "output_type": "execute_result"
    }
   ],
   "source": [
    "#Create key variables\n",
    "\n",
    "#For a unique survey, we can make a key variable concatenating  (SubjectID, Year and Date)\n",
    "cols = ['SubjectID', 'Year', 'Date'] #This key variable might help to find same observation in the garmin database\n",
    "surveydf['key'] = surveydf[cols].apply(lambda row: '_'.join(row.values.astype(str)), axis=1)\n",
    "\n",
    "#For a unique observation in the survey, we can make a key2 with (SubjectID, Year, Date and description)\n",
    "cols2 = ['SubjectID', 'Year', 'Date','description']\n",
    "surveydf['key2'] = surveydf[cols2].apply(lambda row: '_'.join(row.values.astype(str)), axis=1)\n",
    "\n",
    "#Count how many possible mistakes, duplicate observations may have\n",
    "print(surveydf[surveydf.duplicated(subset=['key2'],keep=False)].SubjectID.count())\n",
    "#53 from 5540 obs is not bad\n",
    "\n",
    "#Lets just look to the first one\n",
    "key_look = '424_2017_617'\n",
    "surveydf[surveydf.key == key_look]\n"
   ],
   "metadata": {
    "collapsed": false,
    "pycharm": {
     "name": "#%%\n"
    }
   }
  },
  {
   "cell_type": "code",
   "execution_count": 6,
   "outputs": [
    {
     "name": "stdout",
     "output_type": "stream",
     "text": [
      "description - 0%\n",
      "filename - 0%\n",
      "name - 0%\n",
      "numerical_ans - 94%\n",
      "textual_ans - 6%\n",
      "SubjectID - 0%\n",
      "Year - 0%\n",
      "Date - 0%\n",
      "DataSource - 0%\n",
      "key - 0%\n",
      "key2 - 0%\n"
     ]
    }
   ],
   "source": [
    "for col in surveydf.columns:\n",
    "    pct_missing = np.mean(surveydf[col].isnull())\n",
    "    print('{} - {}%'.format(col, round(pct_missing*100)))"
   ],
   "metadata": {
    "collapsed": false,
    "pycharm": {
     "name": "#%%\n"
    }
   }
  },
  {
   "cell_type": "markdown",
   "source": [
    "## Split into 2 survey dfs - one for each description:\n",
    " Major task is to clean the textual data into numerical data"
   ],
   "metadata": {
    "collapsed": false
   }
  },
  {
   "cell_type": "code",
   "execution_count": 7,
   "outputs": [
    {
     "name": "stderr",
     "output_type": "stream",
     "text": [
      "C:\\Users\\Mark\\AppData\\Local\\Temp/ipykernel_22516/3543428367.py:2: SettingWithCopyWarning: \n",
      "A value is trying to be set on a copy of a slice from a DataFrame.\n",
      "Try using .loc[row_indexer,col_indexer] = value instead\n",
      "\n",
      "See the caveats in the documentation: https://pandas.pydata.org/pandas-docs/stable/user_guide/indexing.html#returning-a-view-versus-a-copy\n",
      "  surveydf1['cleaned_column'] = surveydf1['textual_ans'].apply(lambda x: [int(s) for s in x.split() if s.isdigit()][0])\n",
      "C:\\Users\\Mark\\AppData\\Local\\Temp/ipykernel_22516/3543428367.py:3: SettingWithCopyWarning: \n",
      "A value is trying to be set on a copy of a slice from a DataFrame.\n",
      "Try using .loc[row_indexer,col_indexer] = value instead\n",
      "\n",
      "See the caveats in the documentation: https://pandas.pydata.org/pandas-docs/stable/user_guide/indexing.html#returning-a-view-versus-a-copy\n",
      "  surveydf1['numerical_final_workout'] = surveydf1.numerical_ans.combine_first(surveydf1.cleaned_column)\n"
     ]
    },
    {
     "data": {
      "text/plain": "                             description                    filename  \\\n4   RPE scale 1-10 of workout difficulty  58_20180811_surveydata.csv   \n9   RPE scale 1-10 of workout difficulty  58_20180609_surveydata.csv   \n14  RPE scale 1-10 of workout difficulty  58_20180526_surveydata.csv   \n29  RPE scale 1-10 of workout difficulty  58_20180704_surveydata.csv   \n35  RPE scale 1-10 of workout difficulty  58_20180818_surveydata.csv   \n\n                                       name  numerical_ans        textual_ans  \\\n4   MT Run Follow Up - How Was Your Workout            NaN       3 - Moderate   \n9   MT Run Follow Up - How Was Your Workout            NaN  4 - Somewhat Hard   \n14  MT Run Follow Up - How Was Your Workout            NaN       3 - Moderate   \n29  MT Run Follow Up - How Was Your Workout            NaN  4 - Somewhat Hard   \n35  MT Run Follow Up - How Was Your Workout            NaN       3 - Moderate   \n\n    SubjectID  Year  Date      DataSource          key  \\\n4          58  2018   811  surveydata.csv  58_2018_811   \n9          58  2018   609  surveydata.csv  58_2018_609   \n14         58  2018   526  surveydata.csv  58_2018_526   \n29         58  2018   704  surveydata.csv  58_2018_704   \n35         58  2018   818  surveydata.csv  58_2018_818   \n\n                                                key2  cleaned_column  \\\n4   58_2018_811_RPE scale 1-10 of workout difficulty               3   \n9   58_2018_609_RPE scale 1-10 of workout difficulty               4   \n14  58_2018_526_RPE scale 1-10 of workout difficulty               3   \n29  58_2018_704_RPE scale 1-10 of workout difficulty               4   \n35  58_2018_818_RPE scale 1-10 of workout difficulty               3   \n\n    numerical_final_workout  \n4                       3.0  \n9                       4.0  \n14                      3.0  \n29                      4.0  \n35                      3.0  ",
      "text/html": "<div>\n<style scoped>\n    .dataframe tbody tr th:only-of-type {\n        vertical-align: middle;\n    }\n\n    .dataframe tbody tr th {\n        vertical-align: top;\n    }\n\n    .dataframe thead th {\n        text-align: right;\n    }\n</style>\n<table border=\"1\" class=\"dataframe\">\n  <thead>\n    <tr style=\"text-align: right;\">\n      <th></th>\n      <th>description</th>\n      <th>filename</th>\n      <th>name</th>\n      <th>numerical_ans</th>\n      <th>textual_ans</th>\n      <th>SubjectID</th>\n      <th>Year</th>\n      <th>Date</th>\n      <th>DataSource</th>\n      <th>key</th>\n      <th>key2</th>\n      <th>cleaned_column</th>\n      <th>numerical_final_workout</th>\n    </tr>\n  </thead>\n  <tbody>\n    <tr>\n      <th>4</th>\n      <td>RPE scale 1-10 of workout difficulty</td>\n      <td>58_20180811_surveydata.csv</td>\n      <td>MT Run Follow Up - How Was Your Workout</td>\n      <td>NaN</td>\n      <td>3 - Moderate</td>\n      <td>58</td>\n      <td>2018</td>\n      <td>811</td>\n      <td>surveydata.csv</td>\n      <td>58_2018_811</td>\n      <td>58_2018_811_RPE scale 1-10 of workout difficulty</td>\n      <td>3</td>\n      <td>3.0</td>\n    </tr>\n    <tr>\n      <th>9</th>\n      <td>RPE scale 1-10 of workout difficulty</td>\n      <td>58_20180609_surveydata.csv</td>\n      <td>MT Run Follow Up - How Was Your Workout</td>\n      <td>NaN</td>\n      <td>4 - Somewhat Hard</td>\n      <td>58</td>\n      <td>2018</td>\n      <td>609</td>\n      <td>surveydata.csv</td>\n      <td>58_2018_609</td>\n      <td>58_2018_609_RPE scale 1-10 of workout difficulty</td>\n      <td>4</td>\n      <td>4.0</td>\n    </tr>\n    <tr>\n      <th>14</th>\n      <td>RPE scale 1-10 of workout difficulty</td>\n      <td>58_20180526_surveydata.csv</td>\n      <td>MT Run Follow Up - How Was Your Workout</td>\n      <td>NaN</td>\n      <td>3 - Moderate</td>\n      <td>58</td>\n      <td>2018</td>\n      <td>526</td>\n      <td>surveydata.csv</td>\n      <td>58_2018_526</td>\n      <td>58_2018_526_RPE scale 1-10 of workout difficulty</td>\n      <td>3</td>\n      <td>3.0</td>\n    </tr>\n    <tr>\n      <th>29</th>\n      <td>RPE scale 1-10 of workout difficulty</td>\n      <td>58_20180704_surveydata.csv</td>\n      <td>MT Run Follow Up - How Was Your Workout</td>\n      <td>NaN</td>\n      <td>4 - Somewhat Hard</td>\n      <td>58</td>\n      <td>2018</td>\n      <td>704</td>\n      <td>surveydata.csv</td>\n      <td>58_2018_704</td>\n      <td>58_2018_704_RPE scale 1-10 of workout difficulty</td>\n      <td>4</td>\n      <td>4.0</td>\n    </tr>\n    <tr>\n      <th>35</th>\n      <td>RPE scale 1-10 of workout difficulty</td>\n      <td>58_20180818_surveydata.csv</td>\n      <td>MT Run Follow Up - How Was Your Workout</td>\n      <td>NaN</td>\n      <td>3 - Moderate</td>\n      <td>58</td>\n      <td>2018</td>\n      <td>818</td>\n      <td>surveydata.csv</td>\n      <td>58_2018_818</td>\n      <td>58_2018_818_RPE scale 1-10 of workout difficulty</td>\n      <td>3</td>\n      <td>3.0</td>\n    </tr>\n  </tbody>\n</table>\n</div>"
     },
     "execution_count": 7,
     "metadata": {},
     "output_type": "execute_result"
    }
   ],
   "source": [
    "surveydf1 = surveydf[surveydf.description ==  'RPE scale 1-10 of workout difficulty']\n",
    "surveydf1['cleaned_column'] = surveydf1['textual_ans'].apply(lambda x: [int(s) for s in x.split() if s.isdigit()][0])\n",
    "surveydf1['numerical_final_workout'] = surveydf1.numerical_ans.combine_first(surveydf1.cleaned_column)\n",
    "surveydf1.head()"
   ],
   "metadata": {
    "collapsed": false,
    "pycharm": {
     "name": "#%%\n"
    }
   }
  },
  {
   "cell_type": "code",
   "execution_count": 8,
   "outputs": [
    {
     "data": {
      "text/plain": "array(['3 - Moderate', '4 - Somewhat Hard', '2 - Easy', '5 - Hard',\n       '7 - Very Hard', '1 - Very, Very Easy', '6', '8', '9'],\n      dtype=object)"
     },
     "execution_count": 8,
     "metadata": {},
     "output_type": "execute_result"
    }
   ],
   "source": [
    "surveydf1.textual_ans.unique()"
   ],
   "metadata": {
    "collapsed": false,
    "pycharm": {
     "name": "#%%\n"
    }
   }
  },
  {
   "cell_type": "code",
   "execution_count": 9,
   "outputs": [
    {
     "data": {
      "text/plain": "array(['7.5', '8', '7.50', '6.5', '7.00', '6', '7', '5', '6.5 hours', nan,\n       '7.5 hrs, good sleep !', '9.00', '6.50', '8.50',\n       '8 hours 45 minutes', '6hours 41 minutes', '8 hours 20 minutes',\n       '7 hours 13 minutes', '6 hours', '7 hours 21 minutes', '6:40',\n       '5.5', '0.313888889', '7 hours, 56 minutes', '9 hours', '7 hours',\n       '7 hours 50 minutes', '7 hours 15 minutes', '7.30',\n       '6 hours 39 minutes', '6 hours 10 minutes', '6 hours 16 minutes',\n       '8 hours 51 mnutes', '6 hours 48 minutes', '7 hours 12 minutes',\n       '7 hours 49 minutes', '6 hours 13 minutes', '8 hours 30 minutes',\n       '5hours 32minutes', '6 hours 34 minutes', '3', '8 hours',\n       '0.243055556', '5 hours 57 minutes', '7 hours 43 minutes',\n       '5 hrs 56 minutes', '7.75', '7hours 10minutes', '5.75',\n       '7 hours 20 minutes', '5.67', '6 hours 23 minutes',\n       '6 hours 7 minutes', '7.25', '6.25', '4.00', '6.00',\n       '6 hours 49 minutes', '0.261111111', '6hours 53 minutes',\n       '7 hours 30 minutes', '8.00', '6 hours 40 minutes',\n       '8 hours 35 minutes', '6 hours 20 minutes', '6 hours 21 minutes',\n       '6hours 36 minutes', '5.00', '5.50', '6;30', '2.50', '0.364583333',\n       '0.354861111', '6 hours 23 minutes ', '0.302083333', '8.5',\n       '0.3125', '2.00', '9 hrs', '8 hrs', '9hrs', '8hrs', '8.5hours',\n       '4 hours', '7hours', '4hours', '6hours', '8.5hr', '8.5 hours',\n       '3hrs', '9', '3.50', '1.50', '4.75', '4.50', '10.00', '5.25',\n       '0.00', '0', '4', '8.0 (I did not sleep well at all)',\n       '8.0 (poor sleep)', '7.5 and not well',\n       '7.0 (bad sleep; nightmares)', '7.5 not good', '7.0 + 20 min nap',\n       '8.0 but really poor sleep',\n       '8.5 (I have some catching up to do!)',\n       '7.5 (and I did not sleep well)',\n       '8.0 but it was not a good sleep', \"Don't remember\",\n       '6.75 and bad sleep', '7.0 (with some hot flashes)', '7.5-8',\n       '8.0, but I woke up several times',\n       '8 hours+ (I was really tired)', '6.30', '6.75', '6.74', '4.60',\n       '5.33', '6 hours 52 min', '5.10', '5 hours', '5 hours 8 min',\n       '6 hours 17 min', '4 hours 37 min', '6.60', '8.75',\n       'not enough 6ish', '6.5 (solid, but not enough)',\n       'not enough...5.5', '8.5hrs!!', 'not enough....7', '6hrs', '7 ish',\n       '7.5hrs', '7.40', 'unsure', 'unknown', 'Unknown', 'Unsure',\n       'Not sure', 'not sure', '11.8', '10', '11', '7 hours 40 minutes',\n       '8.4', '6.7', '4.25', '9.70', '4hrs 30min', '5hrs 44 mins',\n       '7hr 36mins', '5hr 30 min'], dtype=object)"
     },
     "execution_count": 9,
     "metadata": {},
     "output_type": "execute_result"
    }
   ],
   "source": [
    "surveydf2 = surveydf[surveydf.description ==  'Numeric answer for number of hours of sleep for participant on night before the run']\n",
    "surveydf2.textual_ans.unique()"
   ],
   "metadata": {
    "collapsed": false,
    "pycharm": {
     "name": "#%%\n"
    }
   }
  },
  {
   "cell_type": "code",
   "execution_count": 10,
   "outputs": [
    {
     "name": "stderr",
     "output_type": "stream",
     "text": [
      "C:\\Users\\Mark\\AppData\\Local\\Temp/ipykernel_22516/3524010834.py:1: SettingWithCopyWarning: \n",
      "A value is trying to be set on a copy of a slice from a DataFrame.\n",
      "Try using .loc[row_indexer,col_indexer] = value instead\n",
      "\n",
      "See the caveats in the documentation: https://pandas.pydata.org/pandas-docs/stable/user_guide/indexing.html#returning-a-view-versus-a-copy\n",
      "  surveydf2['cleaned_column0'] = surveydf2['textual_ans'].apply(lambda x: re.sub('[a-zA-Z/(/)!,]','',str(x)))\n",
      "C:\\Users\\Mark\\AppData\\Local\\Temp/ipykernel_22516/3524010834.py:2: SettingWithCopyWarning: \n",
      "A value is trying to be set on a copy of a slice from a DataFrame.\n",
      "Try using .loc[row_indexer,col_indexer] = value instead\n",
      "\n",
      "See the caveats in the documentation: https://pandas.pydata.org/pandas-docs/stable/user_guide/indexing.html#returning-a-view-versus-a-copy\n",
      "  surveydf2['cleaned_column0b'] = surveydf2['cleaned_column0'].apply(lambda x: re.sub('[:;-]',' ',str(x)))\n",
      "C:\\Users\\Mark\\AppData\\Local\\Temp/ipykernel_22516/3524010834.py:3: SettingWithCopyWarning: \n",
      "A value is trying to be set on a copy of a slice from a DataFrame.\n",
      "Try using .loc[row_indexer,col_indexer] = value instead\n",
      "\n",
      "See the caveats in the documentation: https://pandas.pydata.org/pandas-docs/stable/user_guide/indexing.html#returning-a-view-versus-a-copy\n",
      "  surveydf2['cleaned_column1'] = surveydf2['cleaned_column0b'].apply(lambda x: [float(num) for num in x.split(' ') if re.match('[0-9]',num)])\n",
      "C:\\Users\\Mark\\AppData\\Local\\Temp/ipykernel_22516/3524010834.py:4: SettingWithCopyWarning: \n",
      "A value is trying to be set on a copy of a slice from a DataFrame.\n",
      "Try using .loc[row_indexer,col_indexer] = value instead\n",
      "\n",
      "See the caveats in the documentation: https://pandas.pydata.org/pandas-docs/stable/user_guide/indexing.html#returning-a-view-versus-a-copy\n",
      "  surveydf2['cleaned_column1a'] = surveydf2['cleaned_column1'].apply(lambda x: ' | '.join(str(y) for y in x))\n",
      "C:\\Users\\Mark\\AppData\\Local\\Temp/ipykernel_22516/3524010834.py:5: SettingWithCopyWarning: \n",
      "A value is trying to be set on a copy of a slice from a DataFrame.\n",
      "Try using .loc[row_indexer,col_indexer] = value instead\n",
      "\n",
      "See the caveats in the documentation: https://pandas.pydata.org/pandas-docs/stable/user_guide/indexing.html#returning-a-view-versus-a-copy\n",
      "  surveydf2['cleaned_column1b'] = surveydf2['cleaned_column1'].apply(lambda x: [np.nan] if len(x)==0 else x)\n",
      "C:\\Users\\Mark\\AppData\\Local\\Temp/ipykernel_22516/3524010834.py:6: SettingWithCopyWarning: \n",
      "A value is trying to be set on a copy of a slice from a DataFrame.\n",
      "Try using .loc[row_indexer,col_indexer] = value instead\n",
      "\n",
      "See the caveats in the documentation: https://pandas.pydata.org/pandas-docs/stable/user_guide/indexing.html#returning-a-view-versus-a-copy\n",
      "  surveydf2['numerical_final_sleep'] = surveydf2['cleaned_column1b'].apply(lambda x: x[0]+x[1]/60 if len(x)>1 else x[0])\n"
     ]
    },
    {
     "data": {
      "text/plain": "                                            description  \\\n5519  Numeric answer for number of hours of sleep fo...   \n5523  Numeric answer for number of hours of sleep fo...   \n5527  Numeric answer for number of hours of sleep fo...   \n5531  Numeric answer for number of hours of sleep fo...   \n5536  Numeric answer for number of hours of sleep fo...   \n\n                          filename  \\\n5519  1998_20170621_surveydata.csv   \n5523  1998_20170722_surveydata.csv   \n5527  1998_20171002_surveydata.csv   \n5531  1998_20170824_surveydata.csv   \n5536  1998_20170927_surveydata.csv   \n\n                                                  name  numerical_ans  \\\n5519  MT Run Follow Up - Previous Nights Sleep (hours)       0.173611   \n5523  MT Run Follow Up - Previous Nights Sleep (hours)            NaN   \n5527  MT Run Follow Up - Previous Nights Sleep (hours)            NaN   \n5531  MT Run Follow Up - Previous Nights Sleep (hours)            NaN   \n5536  MT Run Follow Up - Previous Nights Sleep (hours)            NaN   \n\n     textual_ans  SubjectID  Year  Date      DataSource             key  \\\n5519         NaN       1998  2017   621  surveydata.csv   1998_2017_621   \n5523        5.33       1998  2017   722  surveydata.csv   1998_2017_722   \n5527        5.00       1998  2017  1002  surveydata.csv  1998_2017_1002   \n5531        5.00       1998  2017   824  surveydata.csv   1998_2017_824   \n5536        6.00       1998  2017   927  surveydata.csv   1998_2017_927   \n\n                                                   key2 cleaned_column0  \\\n5519  1998_2017_621_Numeric answer for number of hou...                   \n5523  1998_2017_722_Numeric answer for number of hou...            5.33   \n5527  1998_2017_1002_Numeric answer for number of ho...            5.00   \n5531  1998_2017_824_Numeric answer for number of hou...            5.00   \n5536  1998_2017_927_Numeric answer for number of hou...            6.00   \n\n     cleaned_column0b cleaned_column1 cleaned_column1a cleaned_column1b  \\\n5519                               []                             [nan]   \n5523             5.33          [5.33]             5.33           [5.33]   \n5527             5.00           [5.0]              5.0            [5.0]   \n5531             5.00           [5.0]              5.0            [5.0]   \n5536             6.00           [6.0]              6.0            [6.0]   \n\n      numerical_final_sleep  \n5519                    NaN  \n5523                   5.33  \n5527                   5.00  \n5531                   5.00  \n5536                   6.00  ",
      "text/html": "<div>\n<style scoped>\n    .dataframe tbody tr th:only-of-type {\n        vertical-align: middle;\n    }\n\n    .dataframe tbody tr th {\n        vertical-align: top;\n    }\n\n    .dataframe thead th {\n        text-align: right;\n    }\n</style>\n<table border=\"1\" class=\"dataframe\">\n  <thead>\n    <tr style=\"text-align: right;\">\n      <th></th>\n      <th>description</th>\n      <th>filename</th>\n      <th>name</th>\n      <th>numerical_ans</th>\n      <th>textual_ans</th>\n      <th>SubjectID</th>\n      <th>Year</th>\n      <th>Date</th>\n      <th>DataSource</th>\n      <th>key</th>\n      <th>key2</th>\n      <th>cleaned_column0</th>\n      <th>cleaned_column0b</th>\n      <th>cleaned_column1</th>\n      <th>cleaned_column1a</th>\n      <th>cleaned_column1b</th>\n      <th>numerical_final_sleep</th>\n    </tr>\n  </thead>\n  <tbody>\n    <tr>\n      <th>5519</th>\n      <td>Numeric answer for number of hours of sleep fo...</td>\n      <td>1998_20170621_surveydata.csv</td>\n      <td>MT Run Follow Up - Previous Nights Sleep (hours)</td>\n      <td>0.173611</td>\n      <td>NaN</td>\n      <td>1998</td>\n      <td>2017</td>\n      <td>621</td>\n      <td>surveydata.csv</td>\n      <td>1998_2017_621</td>\n      <td>1998_2017_621_Numeric answer for number of hou...</td>\n      <td></td>\n      <td></td>\n      <td>[]</td>\n      <td></td>\n      <td>[nan]</td>\n      <td>NaN</td>\n    </tr>\n    <tr>\n      <th>5523</th>\n      <td>Numeric answer for number of hours of sleep fo...</td>\n      <td>1998_20170722_surveydata.csv</td>\n      <td>MT Run Follow Up - Previous Nights Sleep (hours)</td>\n      <td>NaN</td>\n      <td>5.33</td>\n      <td>1998</td>\n      <td>2017</td>\n      <td>722</td>\n      <td>surveydata.csv</td>\n      <td>1998_2017_722</td>\n      <td>1998_2017_722_Numeric answer for number of hou...</td>\n      <td>5.33</td>\n      <td>5.33</td>\n      <td>[5.33]</td>\n      <td>5.33</td>\n      <td>[5.33]</td>\n      <td>5.33</td>\n    </tr>\n    <tr>\n      <th>5527</th>\n      <td>Numeric answer for number of hours of sleep fo...</td>\n      <td>1998_20171002_surveydata.csv</td>\n      <td>MT Run Follow Up - Previous Nights Sleep (hours)</td>\n      <td>NaN</td>\n      <td>5.00</td>\n      <td>1998</td>\n      <td>2017</td>\n      <td>1002</td>\n      <td>surveydata.csv</td>\n      <td>1998_2017_1002</td>\n      <td>1998_2017_1002_Numeric answer for number of ho...</td>\n      <td>5.00</td>\n      <td>5.00</td>\n      <td>[5.0]</td>\n      <td>5.0</td>\n      <td>[5.0]</td>\n      <td>5.00</td>\n    </tr>\n    <tr>\n      <th>5531</th>\n      <td>Numeric answer for number of hours of sleep fo...</td>\n      <td>1998_20170824_surveydata.csv</td>\n      <td>MT Run Follow Up - Previous Nights Sleep (hours)</td>\n      <td>NaN</td>\n      <td>5.00</td>\n      <td>1998</td>\n      <td>2017</td>\n      <td>824</td>\n      <td>surveydata.csv</td>\n      <td>1998_2017_824</td>\n      <td>1998_2017_824_Numeric answer for number of hou...</td>\n      <td>5.00</td>\n      <td>5.00</td>\n      <td>[5.0]</td>\n      <td>5.0</td>\n      <td>[5.0]</td>\n      <td>5.00</td>\n    </tr>\n    <tr>\n      <th>5536</th>\n      <td>Numeric answer for number of hours of sleep fo...</td>\n      <td>1998_20170927_surveydata.csv</td>\n      <td>MT Run Follow Up - Previous Nights Sleep (hours)</td>\n      <td>NaN</td>\n      <td>6.00</td>\n      <td>1998</td>\n      <td>2017</td>\n      <td>927</td>\n      <td>surveydata.csv</td>\n      <td>1998_2017_927</td>\n      <td>1998_2017_927_Numeric answer for number of hou...</td>\n      <td>6.00</td>\n      <td>6.00</td>\n      <td>[6.0]</td>\n      <td>6.0</td>\n      <td>[6.0]</td>\n      <td>6.00</td>\n    </tr>\n  </tbody>\n</table>\n</div>"
     },
     "metadata": {},
     "output_type": "display_data"
    },
    {
     "name": "stdout",
     "output_type": "stream",
     "text": [
      "['7.5' '8' '7.50' '6.5' '7.00' '6' '7' '5' '6.5 ' '' '7.5    ' '9.00'\n",
      " '6.50' '8.50' '8  45 ' '6 41 ' '8  20 ' '7  13 ' '6 ' '7  21 ' '6:40'\n",
      " '5.5' '0.313888889' '7  56 ' '9 ' '7 ' '7  50 ' '7  15 ' '7.30' '6  39 '\n",
      " '6  10 ' '6  16 ' '8  51 ' '6  48 ' '7  12 ' '7  49 ' '6  13 ' '8  30 '\n",
      " '5 32' '6  34 ' '3' '8 ' '0.243055556' '5  57 ' '7  43 ' '5  56 ' '7.75'\n",
      " '7 10' '5.75' '7  20 ' '5.67' '6  23 ' '6  7 ' '7.25' '6.25' '4.00'\n",
      " '6.00' '6  49 ' '0.261111111' '6 53 ' '7  30 ' '8.00' '6  40 ' '8  35 '\n",
      " '6  20 ' '6  21 ' '6 36 ' '5.00' '5.50' '6;30' '2.50' '0.364583333'\n",
      " '0.354861111' '6  23  ' '0.302083333' '8.5' '0.3125' '2.00' '9' '4 ' '4'\n",
      " '8.5 ' '3.50' '1.50' '4.75' '4.50' '10.00' '5.25' '0.00' '0' '8.0       '\n",
      " '8.0  ' '7.5   ' '7.0  ; ' '7.5  ' '7.0 + 20  ' '8.0    ' '8.5       '\n",
      " '7.5      ' \"' \" '6.75   ' '7.0    ' '7.5-8' '8.0      ' '8 +    ' '6.30'\n",
      " '6.75' '6.74' '4.60' '5.33' '6  52 ' '5.10' '5 ' '5  8 ' '6  17 '\n",
      " '4  37 ' '6.60' '8.75' '  6' '6.5    ' ' ...5.5' ' ....7' '7.40' ' '\n",
      " '11.8' '10' '11' '7  40 ' '8.4' '6.7' '4.25' '9.70' '4 30' '5 44 ' '7 36'\n",
      " '5 30 ']\n",
      "******************************\n",
      "[ 7.5         8.          6.5         7.          6.          5.\n",
      "         nan  9.          8.5         8.75        6.68333333  8.33333333\n",
      "  7.21666667  7.35        6.66666667  5.5         0.31388889  7.93333333\n",
      "  7.83333333  7.25        7.3         6.65        6.16666667  6.26666667\n",
      "  8.85        6.8         7.2         7.81666667  6.21666667  5.53333333\n",
      "  6.56666667  3.          0.24305556  5.95        7.71666667  5.93333333\n",
      "  7.75        7.16666667  5.75        7.33333333  5.67        6.38333333\n",
      "  6.11666667  6.25        4.          6.81666667  0.26111111  6.88333333\n",
      "  8.58333333  6.33333333  6.35        6.6         2.5         0.36458333\n",
      "  0.35486111  0.30208333  0.3125      2.          3.5         1.5\n",
      "  4.75        4.5        10.          5.25        0.          6.75\n",
      "  7.63333333  6.3         6.74        4.6         5.33        6.86666667\n",
      "  5.1         5.13333333  6.28333333  4.61666667  7.4        11.8\n",
      " 11.          7.66666667  8.4         6.7         4.25        9.7\n",
      "  5.73333333  7.6       ]\n"
     ]
    }
   ],
   "source": [
    "surveydf2['cleaned_column0'] = surveydf2['textual_ans'].apply(lambda x: re.sub('[a-zA-Z/(/)!,]','',str(x)))\n",
    "surveydf2['cleaned_column0b'] = surveydf2['cleaned_column0'].apply(lambda x: re.sub('[:;-]',' ',str(x)))\n",
    "surveydf2['cleaned_column1'] = surveydf2['cleaned_column0b'].apply(lambda x: [float(num) for num in x.split(' ') if re.match('[0-9]',num)])\n",
    "surveydf2['cleaned_column1a'] = surveydf2['cleaned_column1'].apply(lambda x: ' | '.join(str(y) for y in x))\n",
    "surveydf2['cleaned_column1b'] = surveydf2['cleaned_column1'].apply(lambda x: [np.nan] if len(x)==0 else x)\n",
    "surveydf2['numerical_final_sleep'] = surveydf2['cleaned_column1b'].apply(lambda x: x[0]+x[1]/60 if len(x)>1 else x[0])\n",
    "\n",
    "display(surveydf2.tail())\n",
    "print(surveydf2['cleaned_column0'].unique())\n",
    "print('*'*30)\n",
    "print(surveydf2['numerical_final_sleep'].unique())"
   ],
   "metadata": {
    "collapsed": false,
    "pycharm": {
     "name": "#%%\n"
    }
   }
  },
  {
   "cell_type": "markdown",
   "source": [
    "## Extract wanted surveydf columns"
   ],
   "metadata": {
    "collapsed": false
   }
  },
  {
   "cell_type": "code",
   "execution_count": 11,
   "outputs": [
    {
     "data": {
      "text/plain": "Index(['description', 'filename', 'name', 'numerical_ans', 'textual_ans',\n       'SubjectID', 'Year', 'Date', 'DataSource', 'key', 'key2',\n       'cleaned_column', 'numerical_final_workout'],\n      dtype='object')"
     },
     "execution_count": 11,
     "metadata": {},
     "output_type": "execute_result"
    }
   ],
   "source": [
    "surveydf1.columns"
   ],
   "metadata": {
    "collapsed": false,
    "pycharm": {
     "name": "#%%\n"
    }
   }
  },
  {
   "cell_type": "code",
   "execution_count": 12,
   "outputs": [],
   "source": [
    "surveydf1 = surveydf1[['description', 'key', 'numerical_final_workout']]"
   ],
   "metadata": {
    "collapsed": false,
    "pycharm": {
     "name": "#%%\n"
    }
   }
  },
  {
   "cell_type": "code",
   "execution_count": 13,
   "outputs": [
    {
     "data": {
      "text/plain": "Index(['description', 'filename', 'name', 'numerical_ans', 'textual_ans',\n       'SubjectID', 'Year', 'Date', 'DataSource', 'key', 'key2',\n       'cleaned_column0', 'cleaned_column0b', 'cleaned_column1',\n       'cleaned_column1a', 'cleaned_column1b', 'numerical_final_sleep'],\n      dtype='object')"
     },
     "execution_count": 13,
     "metadata": {},
     "output_type": "execute_result"
    }
   ],
   "source": [
    "surveydf2.columns"
   ],
   "metadata": {
    "collapsed": false,
    "pycharm": {
     "name": "#%%\n"
    }
   }
  },
  {
   "cell_type": "code",
   "execution_count": 14,
   "outputs": [],
   "source": [
    "surveydf2 = surveydf2[['description', 'key', 'numerical_final_sleep']]"
   ],
   "metadata": {
    "collapsed": false,
    "pycharm": {
     "name": "#%%\n"
    }
   }
  },
  {
   "cell_type": "code",
   "execution_count": 15,
   "outputs": [],
   "source": [
    "sleep_data = survey[survey.description ==  'Numeric answer for number of hours of sleep for participant on night before the run']\n",
    "temp_sleep = sleep_data['numerical_ans'].dropna()\n",
    "rows_select=temp_sleep.index\n",
    "\n",
    "for i in temp_sleep:\n",
    "    surveydf2.loc[rows_select,'numerical_final_sleep'] = temp_sleep"
   ],
   "metadata": {
    "collapsed": false,
    "pycharm": {
     "name": "#%%\n"
    }
   }
  },
  {
   "cell_type": "code",
   "execution_count": 16,
   "outputs": [
    {
     "data": {
      "text/plain": "                                            description             key  \\\n2420  Numeric answer for number of hours of sleep fo...   1991_2017_605   \n2942  Numeric answer for number of hours of sleep fo...   1995_2018_602   \n2966  Numeric answer for number of hours of sleep fo...   1995_2017_622   \n4301  Numeric answer for number of hours of sleep fo...   2064_2018_902   \n4307  Numeric answer for number of hours of sleep fo...   2064_2018_712   \n4313  Numeric answer for number of hours of sleep fo...   2064_2018_611   \n4334  Numeric answer for number of hours of sleep fo...   2064_2018_709   \n4339  Numeric answer for number of hours of sleep fo...   2064_2018_530   \n4354  Numeric answer for number of hours of sleep fo...   2064_2018_618   \n4369  Numeric answer for number of hours of sleep fo...   2064_2018_704   \n4375  Numeric answer for number of hours of sleep fo...   2064_2018_528   \n4380  Numeric answer for number of hours of sleep fo...   2064_2018_716   \n4385  Numeric answer for number of hours of sleep fo...   2064_2018_913   \n4390  Numeric answer for number of hours of sleep fo...   2064_2018_702   \n4396  Numeric answer for number of hours of sleep fo...   2064_2018_526   \n4412  Numeric answer for number of hours of sleep fo...   2064_2018_705   \n4418  Numeric answer for number of hours of sleep fo...   2064_2018_915   \n4434  Numeric answer for number of hours of sleep fo...   2064_2018_627   \n4455  Numeric answer for number of hours of sleep fo...   2064_2018_825   \n4460  Numeric answer for number of hours of sleep fo...   2064_2018_512   \n4465  Numeric answer for number of hours of sleep fo...   2064_2018_507   \n4475  Numeric answer for number of hours of sleep fo...   2064_2018_621   \n4485  Numeric answer for number of hours of sleep fo...   2064_2018_514   \n4486  Numeric answer for number of hours of sleep fo...   2064_2018_514   \n4491  Numeric answer for number of hours of sleep fo...  2064_2018_1010   \n4496  Numeric answer for number of hours of sleep fo...   2064_2018_823   \n4501  Numeric answer for number of hours of sleep fo...   2064_2018_509   \n4506  Numeric answer for number of hours of sleep fo...   2064_2018_920   \n4511  Numeric answer for number of hours of sleep fo...   2064_2018_829   \n4537  Numeric answer for number of hours of sleep fo...  2064_2018_1015   \n4542  Numeric answer for number of hours of sleep fo...   2064_2018_924   \n4547  Numeric answer for number of hours of sleep fo...   2064_2018_827   \n4572  Numeric answer for number of hours of sleep fo...   2064_2018_625   \n\n      numerical_final_sleep  \n2420                    NaN  \n2942                    NaN  \n2966                    NaN  \n4301                    NaN  \n4307                    NaN  \n4313                    NaN  \n4334                    NaN  \n4339                    NaN  \n4354                    NaN  \n4369                    NaN  \n4375                    NaN  \n4380                    NaN  \n4385                    NaN  \n4390                    NaN  \n4396                    NaN  \n4412                    NaN  \n4418                    NaN  \n4434                    NaN  \n4455                    NaN  \n4460                    NaN  \n4465                    NaN  \n4475                    NaN  \n4485                    NaN  \n4486                    NaN  \n4491                    NaN  \n4496                    NaN  \n4501                    NaN  \n4506                    NaN  \n4511                    NaN  \n4537                    NaN  \n4542                    NaN  \n4547                    NaN  \n4572                    NaN  ",
      "text/html": "<div>\n<style scoped>\n    .dataframe tbody tr th:only-of-type {\n        vertical-align: middle;\n    }\n\n    .dataframe tbody tr th {\n        vertical-align: top;\n    }\n\n    .dataframe thead th {\n        text-align: right;\n    }\n</style>\n<table border=\"1\" class=\"dataframe\">\n  <thead>\n    <tr style=\"text-align: right;\">\n      <th></th>\n      <th>description</th>\n      <th>key</th>\n      <th>numerical_final_sleep</th>\n    </tr>\n  </thead>\n  <tbody>\n    <tr>\n      <th>2420</th>\n      <td>Numeric answer for number of hours of sleep fo...</td>\n      <td>1991_2017_605</td>\n      <td>NaN</td>\n    </tr>\n    <tr>\n      <th>2942</th>\n      <td>Numeric answer for number of hours of sleep fo...</td>\n      <td>1995_2018_602</td>\n      <td>NaN</td>\n    </tr>\n    <tr>\n      <th>2966</th>\n      <td>Numeric answer for number of hours of sleep fo...</td>\n      <td>1995_2017_622</td>\n      <td>NaN</td>\n    </tr>\n    <tr>\n      <th>4301</th>\n      <td>Numeric answer for number of hours of sleep fo...</td>\n      <td>2064_2018_902</td>\n      <td>NaN</td>\n    </tr>\n    <tr>\n      <th>4307</th>\n      <td>Numeric answer for number of hours of sleep fo...</td>\n      <td>2064_2018_712</td>\n      <td>NaN</td>\n    </tr>\n    <tr>\n      <th>4313</th>\n      <td>Numeric answer for number of hours of sleep fo...</td>\n      <td>2064_2018_611</td>\n      <td>NaN</td>\n    </tr>\n    <tr>\n      <th>4334</th>\n      <td>Numeric answer for number of hours of sleep fo...</td>\n      <td>2064_2018_709</td>\n      <td>NaN</td>\n    </tr>\n    <tr>\n      <th>4339</th>\n      <td>Numeric answer for number of hours of sleep fo...</td>\n      <td>2064_2018_530</td>\n      <td>NaN</td>\n    </tr>\n    <tr>\n      <th>4354</th>\n      <td>Numeric answer for number of hours of sleep fo...</td>\n      <td>2064_2018_618</td>\n      <td>NaN</td>\n    </tr>\n    <tr>\n      <th>4369</th>\n      <td>Numeric answer for number of hours of sleep fo...</td>\n      <td>2064_2018_704</td>\n      <td>NaN</td>\n    </tr>\n    <tr>\n      <th>4375</th>\n      <td>Numeric answer for number of hours of sleep fo...</td>\n      <td>2064_2018_528</td>\n      <td>NaN</td>\n    </tr>\n    <tr>\n      <th>4380</th>\n      <td>Numeric answer for number of hours of sleep fo...</td>\n      <td>2064_2018_716</td>\n      <td>NaN</td>\n    </tr>\n    <tr>\n      <th>4385</th>\n      <td>Numeric answer for number of hours of sleep fo...</td>\n      <td>2064_2018_913</td>\n      <td>NaN</td>\n    </tr>\n    <tr>\n      <th>4390</th>\n      <td>Numeric answer for number of hours of sleep fo...</td>\n      <td>2064_2018_702</td>\n      <td>NaN</td>\n    </tr>\n    <tr>\n      <th>4396</th>\n      <td>Numeric answer for number of hours of sleep fo...</td>\n      <td>2064_2018_526</td>\n      <td>NaN</td>\n    </tr>\n    <tr>\n      <th>4412</th>\n      <td>Numeric answer for number of hours of sleep fo...</td>\n      <td>2064_2018_705</td>\n      <td>NaN</td>\n    </tr>\n    <tr>\n      <th>4418</th>\n      <td>Numeric answer for number of hours of sleep fo...</td>\n      <td>2064_2018_915</td>\n      <td>NaN</td>\n    </tr>\n    <tr>\n      <th>4434</th>\n      <td>Numeric answer for number of hours of sleep fo...</td>\n      <td>2064_2018_627</td>\n      <td>NaN</td>\n    </tr>\n    <tr>\n      <th>4455</th>\n      <td>Numeric answer for number of hours of sleep fo...</td>\n      <td>2064_2018_825</td>\n      <td>NaN</td>\n    </tr>\n    <tr>\n      <th>4460</th>\n      <td>Numeric answer for number of hours of sleep fo...</td>\n      <td>2064_2018_512</td>\n      <td>NaN</td>\n    </tr>\n    <tr>\n      <th>4465</th>\n      <td>Numeric answer for number of hours of sleep fo...</td>\n      <td>2064_2018_507</td>\n      <td>NaN</td>\n    </tr>\n    <tr>\n      <th>4475</th>\n      <td>Numeric answer for number of hours of sleep fo...</td>\n      <td>2064_2018_621</td>\n      <td>NaN</td>\n    </tr>\n    <tr>\n      <th>4485</th>\n      <td>Numeric answer for number of hours of sleep fo...</td>\n      <td>2064_2018_514</td>\n      <td>NaN</td>\n    </tr>\n    <tr>\n      <th>4486</th>\n      <td>Numeric answer for number of hours of sleep fo...</td>\n      <td>2064_2018_514</td>\n      <td>NaN</td>\n    </tr>\n    <tr>\n      <th>4491</th>\n      <td>Numeric answer for number of hours of sleep fo...</td>\n      <td>2064_2018_1010</td>\n      <td>NaN</td>\n    </tr>\n    <tr>\n      <th>4496</th>\n      <td>Numeric answer for number of hours of sleep fo...</td>\n      <td>2064_2018_823</td>\n      <td>NaN</td>\n    </tr>\n    <tr>\n      <th>4501</th>\n      <td>Numeric answer for number of hours of sleep fo...</td>\n      <td>2064_2018_509</td>\n      <td>NaN</td>\n    </tr>\n    <tr>\n      <th>4506</th>\n      <td>Numeric answer for number of hours of sleep fo...</td>\n      <td>2064_2018_920</td>\n      <td>NaN</td>\n    </tr>\n    <tr>\n      <th>4511</th>\n      <td>Numeric answer for number of hours of sleep fo...</td>\n      <td>2064_2018_829</td>\n      <td>NaN</td>\n    </tr>\n    <tr>\n      <th>4537</th>\n      <td>Numeric answer for number of hours of sleep fo...</td>\n      <td>2064_2018_1015</td>\n      <td>NaN</td>\n    </tr>\n    <tr>\n      <th>4542</th>\n      <td>Numeric answer for number of hours of sleep fo...</td>\n      <td>2064_2018_924</td>\n      <td>NaN</td>\n    </tr>\n    <tr>\n      <th>4547</th>\n      <td>Numeric answer for number of hours of sleep fo...</td>\n      <td>2064_2018_827</td>\n      <td>NaN</td>\n    </tr>\n    <tr>\n      <th>4572</th>\n      <td>Numeric answer for number of hours of sleep fo...</td>\n      <td>2064_2018_625</td>\n      <td>NaN</td>\n    </tr>\n  </tbody>\n</table>\n</div>"
     },
     "execution_count": 16,
     "metadata": {},
     "output_type": "execute_result"
    },
    {
     "data": {
      "text/plain": "<Figure size 720x432 with 1 Axes>",
      "image/png": "[encoded data removed]"
     },
     "metadata": {
      "needs_background": "light"
     },
     "output_type": "display_data"
    }
   ],
   "source": [
    "plt.figure(figsize=(10,6))\n",
    "sns.heatmap(surveydf2.isnull(), cbar=False)\n",
    "\n",
    "surveydf2[surveydf2.isna().any(axis=1)]"
   ],
   "metadata": {
    "collapsed": false,
    "pycharm": {
     "name": "#%%\n"
    }
   }
  },
  {
   "cell_type": "code",
   "execution_count": 17,
   "outputs": [
    {
     "name": "stderr",
     "output_type": "stream",
     "text": [
      "C:\\Users\\Mark\\AppData\\Local\\Temp/ipykernel_22516/3177584957.py:2: FutureWarning: Dropping of nuisance columns in DataFrame reductions (with 'numeric_only=None') is deprecated; in a future version this will raise TypeError.  Select only valid columns before calling the reduction.\n",
      "  missing_sleep_1991 = surveydf2[surveydf2['key'].str.contains(r'1991')].mean()\n",
      "C:\\Users\\Mark\\AppData\\Local\\Temp/ipykernel_22516/3177584957.py:5: FutureWarning: Dropping of nuisance columns in DataFrame reductions (with 'numeric_only=None') is deprecated; in a future version this will raise TypeError.  Select only valid columns before calling the reduction.\n",
      "  missing_sleep_2064 = surveydf2[surveydf2['key'].str.contains(r'2064')].mean(skipna=True)\n"
     ]
    }
   ],
   "source": [
    "import itertools\n",
    "missing_sleep_1991 = surveydf2[surveydf2['key'].str.contains(r'1991')].mean()\n",
    "missing_sleep_1991 = [missing_sleep_1991[1]]\n",
    "missing_sleep_1995 =[5.5,7] # typo\n",
    "missing_sleep_2064 = surveydf2[surveydf2['key'].str.contains(r'2064')].mean(skipna=True)\n",
    "missing_sleep_2064=[missing_sleep_2064[1]]*30\n",
    "\n",
    "sleep_values_to_add = missing_sleep_1991+missing_sleep_1995+missing_sleep_2064"
   ],
   "metadata": {
    "collapsed": false,
    "pycharm": {
     "name": "#%%\n"
    }
   }
  },
  {
   "cell_type": "code",
   "execution_count": 18,
   "outputs": [],
   "source": [
    "temp_rows = surveydf2[surveydf2.isna().any(axis=1)].index\n",
    "for i in sleep_values_to_add:\n",
    "    surveydf2.loc[temp_rows,'numerical_final_sleep'] = sleep_values_to_add"
   ],
   "metadata": {
    "collapsed": false,
    "pycharm": {
     "name": "#%%\n"
    }
   }
  },
  {
   "cell_type": "code",
   "execution_count": 19,
   "outputs": [
    {
     "data": {
      "text/plain": "<AxesSubplot:>"
     },
     "execution_count": 19,
     "metadata": {},
     "output_type": "execute_result"
    },
    {
     "data": {
      "text/plain": "<Figure size 720x432 with 1 Axes>",
      "image/png": "[encoded data removed]"
     },
     "metadata": {
      "needs_background": "light"
     },
     "output_type": "display_data"
    }
   ],
   "source": [
    "plt.figure(figsize=(10,6))\n",
    "sns.heatmap(surveydf2.isnull(), cbar=False)"
   ],
   "metadata": {
    "collapsed": false,
    "pycharm": {
     "name": "#%%\n"
    }
   }
  },
  {
   "cell_type": "markdown",
   "source": [
    "## Read in Garmin Data"
   ],
   "metadata": {
    "collapsed": false
   }
  },
  {
   "cell_type": "code",
   "execution_count": 20,
   "outputs": [
    {
     "name": "stdout",
     "output_type": "stream",
     "text": [
      "6412029\n",
      "38\n"
     ]
    },
    {
     "data": {
      "text/plain": "   Unnamed: 0  Unnamed: 0.1                    filename  record.altitude[m]  \\\n0           5             5  58_20180916_garmindata.csv              1117.2   \n1           6             6  58_20180916_garmindata.csv              1116.4   \n2           7             7  58_20180916_garmindata.csv              1116.2   \n3           8             8  58_20180916_garmindata.csv              1116.2   \n4           9             9  58_20180916_garmindata.csv              1116.0   \n\n   record.distance[m]  record.heart_rate[bpm]  \\\n0                3.17                    78.0   \n1                7.93                    78.0   \n2               10.39                    82.0   \n3               12.91                    86.0   \n4               15.66                    86.0   \n\n   record.position_lat[semicircles]  record.position_long[semicircles]  \\\n0                       609492677.0                      -1.361950e+09   \n1                       609493159.0                      -1.361951e+09   \n2                       609493416.0                      -1.361951e+09   \n3                       609493682.0                      -1.361951e+09   \n4                       609493973.0                      -1.361951e+09   \n\n   record.speed[m/s]  record.timestamp[s]  SubjectID  Year  Date  \\\n0              1.465                  0.0         58  2018   916   \n1              2.305                  2.0         58  2018   916   \n2              2.454                  3.0         58  2018   916   \n3              2.463                  4.0         58  2018   916   \n4              2.547                  5.0         58  2018   916   \n\n       DataSource  \n0  garmindata.csv  \n1  garmindata.csv  \n2  garmindata.csv  \n3  garmindata.csv  \n4  garmindata.csv  ",
      "text/html": "<div>\n<style scoped>\n    .dataframe tbody tr th:only-of-type {\n        vertical-align: middle;\n    }\n\n    .dataframe tbody tr th {\n        vertical-align: top;\n    }\n\n    .dataframe thead th {\n        text-align: right;\n    }\n</style>\n<table border=\"1\" class=\"dataframe\">\n  <thead>\n    <tr style=\"text-align: right;\">\n      <th></th>\n      <th>Unnamed: 0</th>\n      <th>Unnamed: 0.1</th>\n      <th>filename</th>\n      <th>record.altitude[m]</th>\n      <th>record.distance[m]</th>\n      <th>record.heart_rate[bpm]</th>\n      <th>record.position_lat[semicircles]</th>\n      <th>record.position_long[semicircles]</th>\n      <th>record.speed[m/s]</th>\n      <th>record.timestamp[s]</th>\n      <th>SubjectID</th>\n      <th>Year</th>\n      <th>Date</th>\n      <th>DataSource</th>\n    </tr>\n  </thead>\n  <tbody>\n    <tr>\n      <th>0</th>\n      <td>5</td>\n      <td>5</td>\n      <td>58_20180916_garmindata.csv</td>\n      <td>1117.2</td>\n      <td>3.17</td>\n      <td>78.0</td>\n      <td>609492677.0</td>\n      <td>-1.361950e+09</td>\n      <td>1.465</td>\n      <td>0.0</td>\n      <td>58</td>\n      <td>2018</td>\n      <td>916</td>\n      <td>garmindata.csv</td>\n    </tr>\n    <tr>\n      <th>1</th>\n      <td>6</td>\n      <td>6</td>\n      <td>58_20180916_garmindata.csv</td>\n      <td>1116.4</td>\n      <td>7.93</td>\n      <td>78.0</td>\n      <td>609493159.0</td>\n      <td>-1.361951e+09</td>\n      <td>2.305</td>\n      <td>2.0</td>\n      <td>58</td>\n      <td>2018</td>\n      <td>916</td>\n      <td>garmindata.csv</td>\n    </tr>\n    <tr>\n      <th>2</th>\n      <td>7</td>\n      <td>7</td>\n      <td>58_20180916_garmindata.csv</td>\n      <td>1116.2</td>\n      <td>10.39</td>\n      <td>82.0</td>\n      <td>609493416.0</td>\n      <td>-1.361951e+09</td>\n      <td>2.454</td>\n      <td>3.0</td>\n      <td>58</td>\n      <td>2018</td>\n      <td>916</td>\n      <td>garmindata.csv</td>\n    </tr>\n    <tr>\n      <th>3</th>\n      <td>8</td>\n      <td>8</td>\n      <td>58_20180916_garmindata.csv</td>\n      <td>1116.2</td>\n      <td>12.91</td>\n      <td>86.0</td>\n      <td>609493682.0</td>\n      <td>-1.361951e+09</td>\n      <td>2.463</td>\n      <td>4.0</td>\n      <td>58</td>\n      <td>2018</td>\n      <td>916</td>\n      <td>garmindata.csv</td>\n    </tr>\n    <tr>\n      <th>4</th>\n      <td>9</td>\n      <td>9</td>\n      <td>58_20180916_garmindata.csv</td>\n      <td>1116.0</td>\n      <td>15.66</td>\n      <td>86.0</td>\n      <td>609493973.0</td>\n      <td>-1.361951e+09</td>\n      <td>2.547</td>\n      <td>5.0</td>\n      <td>58</td>\n      <td>2018</td>\n      <td>916</td>\n      <td>garmindata.csv</td>\n    </tr>\n  </tbody>\n</table>\n</div>"
     },
     "execution_count": 20,
     "metadata": {},
     "output_type": "execute_result"
    }
   ],
   "source": [
    "garmin = pd.read_csv('garmindata.csv')\n",
    "\n",
    "#how many observations\n",
    "print(garmin.SubjectID.count())\n",
    "#unique ID\n",
    "print(len(pd.unique(garmin['SubjectID'])))\n",
    "\n",
    "garmin.head()"
   ],
   "metadata": {
    "collapsed": false,
    "pycharm": {
     "name": "#%%\n"
    }
   }
  },
  {
   "cell_type": "code",
   "execution_count": 21,
   "outputs": [],
   "source": [
    "#Lets explore this data\n",
    "\n",
    "#Drop 2 first columns\n",
    "garmin.drop(garmin.columns[[0, 1]], axis=1, inplace=True)"
   ],
   "metadata": {
    "collapsed": false,
    "pycharm": {
     "name": "#%%\n"
    }
   }
  },
  {
   "cell_type": "code",
   "execution_count": 22,
   "outputs": [
    {
     "name": "stdout",
     "output_type": "stream",
     "text": [
      "1657\n",
      "44.78378378378378\n"
     ]
    },
    {
     "data": {
      "text/plain": "key\n1942_2017_1008    15052\n1942_2017_621      2455\n1942_2017_624      3926\n1942_2017_706      5375\n1942_2017_708      7214\n                  ...  \n58_2018_910         773\n58_2018_913         667\n58_2018_915         779\n58_2018_916         886\n58_2018_924         549\nName: SubjectID, Length: 1657, dtype: int64"
     },
     "execution_count": 22,
     "metadata": {},
     "output_type": "execute_result"
    }
   ],
   "source": [
    "#Create key variables\n",
    "\n",
    "#For a unique observation, we can make a key variable concatenating  (SubjectID, Year and Date)\n",
    "cols = ['SubjectID', 'Year', 'Date'] #This key variable might help to find same observation in the survey database\n",
    "garmin['key'] = garmin[cols].apply(lambda row: '_'.join(row.values.astype(str)), axis=1)\n",
    "\n",
    "#unique ID\n",
    "print(len(pd.unique(garmin['key'])))\n",
    "#average observations per runner\n",
    "print(len(pd.unique(garmin['key']))/37)\n",
    "#data per observation\n",
    "garmin.groupby('key')['SubjectID'].count()\n"
   ],
   "metadata": {
    "collapsed": false,
    "pycharm": {
     "name": "#%%\n"
    }
   }
  },
  {
   "cell_type": "code",
   "execution_count": 23,
   "outputs": [
    {
     "data": {
      "text/plain": "3869.661436330718"
     },
     "execution_count": 23,
     "metadata": {},
     "output_type": "execute_result"
    }
   ],
   "source": [
    "#average data per observation\n",
    "sum(garmin.groupby('key')['SubjectID'].count())/len(garmin.groupby('key')['SubjectID'].count())\n"
   ],
   "metadata": {
    "collapsed": false,
    "pycharm": {
     "name": "#%%\n"
    }
   }
  },
  {
   "cell_type": "code",
   "execution_count": 24,
   "outputs": [
    {
     "name": "stdout",
     "output_type": "stream",
     "text": [
      "<class 'pandas.core.frame.DataFrame'>\n",
      "RangeIndex: 6412029 entries, 0 to 6412028\n",
      "Data columns (total 13 columns):\n",
      " #   Column                             Dtype  \n",
      "---  ------                             -----  \n",
      " 0   filename                           object \n",
      " 1   record.altitude[m]                 float64\n",
      " 2   record.distance[m]                 float64\n",
      " 3   record.heart_rate[bpm]             float64\n",
      " 4   record.position_lat[semicircles]   float64\n",
      " 5   record.position_long[semicircles]  float64\n",
      " 6   record.speed[m/s]                  float64\n",
      " 7   record.timestamp[s]                float64\n",
      " 8   SubjectID                          int64  \n",
      " 9   Year                               int64  \n",
      " 10  Date                               int64  \n",
      " 11  DataSource                         object \n",
      " 12  key                                object \n",
      "dtypes: float64(7), int64(3), object(3)\n",
      "memory usage: 636.0+ MB\n"
     ]
    }
   ],
   "source": [
    "garmin.info()"
   ],
   "metadata": {
    "collapsed": false,
    "pycharm": {
     "name": "#%%\n"
    }
   }
  },
  {
   "cell_type": "code",
   "execution_count": 25,
   "outputs": [
    {
     "data": {
      "text/plain": "Index(['filename', 'record.altitude[m]', 'record.distance[m]',\n       'record.heart_rate[bpm]', 'record.position_lat[semicircles]',\n       'record.position_long[semicircles]', 'record.speed[m/s]',\n       'record.timestamp[s]', 'SubjectID', 'Year', 'Date', 'DataSource',\n       'key'],\n      dtype='object')"
     },
     "execution_count": 25,
     "metadata": {},
     "output_type": "execute_result"
    }
   ],
   "source": [
    "garmin.columns"
   ],
   "metadata": {
    "collapsed": false,
    "pycharm": {
     "name": "#%%\n"
    }
   }
  },
  {
   "cell_type": "code",
   "execution_count": 26,
   "outputs": [],
   "source": [
    "garmin = garmin[['SubjectID', 'Year', 'Date', 'key', 'record.altitude[m]', 'record.distance[m]',\n",
    "       'record.heart_rate[bpm]', 'record.position_lat[semicircles]',\n",
    "       'record.position_long[semicircles]', 'record.speed[m/s]',\n",
    "       'record.timestamp[s]']]"
   ],
   "metadata": {
    "collapsed": false,
    "pycharm": {
     "name": "#%%\n"
    }
   }
  },
  {
   "cell_type": "markdown",
   "source": [
    "## Join garmin and surveydf tables - inner join for match on key with data from surveydf"
   ],
   "metadata": {
    "collapsed": false
   }
  },
  {
   "cell_type": "code",
   "execution_count": 27,
   "outputs": [
    {
     "data": {
      "text/plain": "      SubjectID  Year  Date          key  record.altitude[m]  \\\n2406         58  2018   522  58_2018_522              1026.0   \n2407         58  2018   522  58_2018_522              1026.0   \n2408         58  2018   522  58_2018_522              1026.0   \n2409         58  2018   522  58_2018_522              1026.0   \n2410         58  2018   522  58_2018_522              1026.0   \n\n      record.distance[m]  record.heart_rate[bpm]  \\\n2406               31.21                   110.0   \n2407               45.74                   107.0   \n2408               58.16                   111.0   \n2409               62.44                   118.0   \n2410               64.00                   124.0   \n\n      record.position_lat[semicircles]  record.position_long[semicircles]  \\\n2406                       609035059.0                      -1.361008e+09   \n2407                       609035398.0                      -1.361011e+09   \n2408                       609035621.0                      -1.361013e+09   \n2409                       609035727.0                      -1.361014e+09   \n2410                       609035748.0                      -1.361014e+09   \n\n      record.speed[m/s]  record.timestamp[s]  \\\n2406              2.715                  0.0   \n2407              2.846                  6.0   \n2408              2.883                 11.0   \n2409              2.827                 13.0   \n2410              2.790                 14.0   \n\n                               description  numerical_final_workout  \n2406  RPE scale 1-10 of workout difficulty                      3.0  \n2407  RPE scale 1-10 of workout difficulty                      3.0  \n2408  RPE scale 1-10 of workout difficulty                      3.0  \n2409  RPE scale 1-10 of workout difficulty                      3.0  \n2410  RPE scale 1-10 of workout difficulty                      3.0  ",
      "text/html": "<div>\n<style scoped>\n    .dataframe tbody tr th:only-of-type {\n        vertical-align: middle;\n    }\n\n    .dataframe tbody tr th {\n        vertical-align: top;\n    }\n\n    .dataframe thead th {\n        text-align: right;\n    }\n</style>\n<table border=\"1\" class=\"dataframe\">\n  <thead>\n    <tr style=\"text-align: right;\">\n      <th></th>\n      <th>SubjectID</th>\n      <th>Year</th>\n      <th>Date</th>\n      <th>key</th>\n      <th>record.altitude[m]</th>\n      <th>record.distance[m]</th>\n      <th>record.heart_rate[bpm]</th>\n      <th>record.position_lat[semicircles]</th>\n      <th>record.position_long[semicircles]</th>\n      <th>record.speed[m/s]</th>\n      <th>record.timestamp[s]</th>\n      <th>description</th>\n      <th>numerical_final_workout</th>\n    </tr>\n  </thead>\n  <tbody>\n    <tr>\n      <th>2406</th>\n      <td>58</td>\n      <td>2018</td>\n      <td>522</td>\n      <td>58_2018_522</td>\n      <td>1026.0</td>\n      <td>31.21</td>\n      <td>110.0</td>\n      <td>609035059.0</td>\n      <td>-1.361008e+09</td>\n      <td>2.715</td>\n      <td>0.0</td>\n      <td>RPE scale 1-10 of workout difficulty</td>\n      <td>3.0</td>\n    </tr>\n    <tr>\n      <th>2407</th>\n      <td>58</td>\n      <td>2018</td>\n      <td>522</td>\n      <td>58_2018_522</td>\n      <td>1026.0</td>\n      <td>45.74</td>\n      <td>107.0</td>\n      <td>609035398.0</td>\n      <td>-1.361011e+09</td>\n      <td>2.846</td>\n      <td>6.0</td>\n      <td>RPE scale 1-10 of workout difficulty</td>\n      <td>3.0</td>\n    </tr>\n    <tr>\n      <th>2408</th>\n      <td>58</td>\n      <td>2018</td>\n      <td>522</td>\n      <td>58_2018_522</td>\n      <td>1026.0</td>\n      <td>58.16</td>\n      <td>111.0</td>\n      <td>609035621.0</td>\n      <td>-1.361013e+09</td>\n      <td>2.883</td>\n      <td>11.0</td>\n      <td>RPE scale 1-10 of workout difficulty</td>\n      <td>3.0</td>\n    </tr>\n    <tr>\n      <th>2409</th>\n      <td>58</td>\n      <td>2018</td>\n      <td>522</td>\n      <td>58_2018_522</td>\n      <td>1026.0</td>\n      <td>62.44</td>\n      <td>118.0</td>\n      <td>609035727.0</td>\n      <td>-1.361014e+09</td>\n      <td>2.827</td>\n      <td>13.0</td>\n      <td>RPE scale 1-10 of workout difficulty</td>\n      <td>3.0</td>\n    </tr>\n    <tr>\n      <th>2410</th>\n      <td>58</td>\n      <td>2018</td>\n      <td>522</td>\n      <td>58_2018_522</td>\n      <td>1026.0</td>\n      <td>64.00</td>\n      <td>124.0</td>\n      <td>609035748.0</td>\n      <td>-1.361014e+09</td>\n      <td>2.790</td>\n      <td>14.0</td>\n      <td>RPE scale 1-10 of workout difficulty</td>\n      <td>3.0</td>\n    </tr>\n  </tbody>\n</table>\n</div>"
     },
     "execution_count": 27,
     "metadata": {},
     "output_type": "execute_result"
    }
   ],
   "source": [
    "combined_workout= garmin.merge(surveydf1, on = 'key', how = 'left')\n",
    "combined_workout = combined_workout.dropna()\n",
    "combined_workout.head(5)"
   ],
   "metadata": {
    "collapsed": false,
    "pycharm": {
     "name": "#%%\n"
    }
   }
  },
  {
   "cell_type": "code",
   "execution_count": 28,
   "outputs": [
    {
     "data": {
      "text/plain": "     SubjectID  Year  Date          key  record.altitude[m]  \\\n886         58  2017   729  58_2017_729              1003.4   \n887         58  2017   729  58_2017_729              1003.4   \n888         58  2017   729  58_2017_729              1003.4   \n889         58  2017   729  58_2017_729              1003.6   \n890         58  2017   729  58_2017_729              1003.4   \n\n     record.distance[m]  record.heart_rate[bpm]  \\\n886                1.72                    97.0   \n887                3.42                    97.0   \n888               20.37                    98.0   \n889               41.56                   100.0   \n890               61.90                   101.0   \n\n     record.position_lat[semicircles]  record.position_long[semicircles]  \\\n886                       607370226.0                      -1.360298e+09   \n887                       607370061.0                      -1.360298e+09   \n888                       607368405.0                      -1.360297e+09   \n889                       607367928.0                      -1.360294e+09   \n890                       607367668.0                      -1.360290e+09   \n\n     record.speed[m/s]  record.timestamp[s]  \\\n886              1.642                  0.0   \n887              1.642                  1.0   \n888              2.566                  8.0   \n889              2.650                 16.0   \n890              2.613                 24.0   \n\n                                           description  numerical_final_sleep  \n886  Numeric answer for number of hours of sleep fo...                    7.5  \n887  Numeric answer for number of hours of sleep fo...                    7.5  \n888  Numeric answer for number of hours of sleep fo...                    7.5  \n889  Numeric answer for number of hours of sleep fo...                    7.5  \n890  Numeric answer for number of hours of sleep fo...                    7.5  ",
      "text/html": "<div>\n<style scoped>\n    .dataframe tbody tr th:only-of-type {\n        vertical-align: middle;\n    }\n\n    .dataframe tbody tr th {\n        vertical-align: top;\n    }\n\n    .dataframe thead th {\n        text-align: right;\n    }\n</style>\n<table border=\"1\" class=\"dataframe\">\n  <thead>\n    <tr style=\"text-align: right;\">\n      <th></th>\n      <th>SubjectID</th>\n      <th>Year</th>\n      <th>Date</th>\n      <th>key</th>\n      <th>record.altitude[m]</th>\n      <th>record.distance[m]</th>\n      <th>record.heart_rate[bpm]</th>\n      <th>record.position_lat[semicircles]</th>\n      <th>record.position_long[semicircles]</th>\n      <th>record.speed[m/s]</th>\n      <th>record.timestamp[s]</th>\n      <th>description</th>\n      <th>numerical_final_sleep</th>\n    </tr>\n  </thead>\n  <tbody>\n    <tr>\n      <th>886</th>\n      <td>58</td>\n      <td>2017</td>\n      <td>729</td>\n      <td>58_2017_729</td>\n      <td>1003.4</td>\n      <td>1.72</td>\n      <td>97.0</td>\n      <td>607370226.0</td>\n      <td>-1.360298e+09</td>\n      <td>1.642</td>\n      <td>0.0</td>\n      <td>Numeric answer for number of hours of sleep fo...</td>\n      <td>7.5</td>\n    </tr>\n    <tr>\n      <th>887</th>\n      <td>58</td>\n      <td>2017</td>\n      <td>729</td>\n      <td>58_2017_729</td>\n      <td>1003.4</td>\n      <td>3.42</td>\n      <td>97.0</td>\n      <td>607370061.0</td>\n      <td>-1.360298e+09</td>\n      <td>1.642</td>\n      <td>1.0</td>\n      <td>Numeric answer for number of hours of sleep fo...</td>\n      <td>7.5</td>\n    </tr>\n    <tr>\n      <th>888</th>\n      <td>58</td>\n      <td>2017</td>\n      <td>729</td>\n      <td>58_2017_729</td>\n      <td>1003.4</td>\n      <td>20.37</td>\n      <td>98.0</td>\n      <td>607368405.0</td>\n      <td>-1.360297e+09</td>\n      <td>2.566</td>\n      <td>8.0</td>\n      <td>Numeric answer for number of hours of sleep fo...</td>\n      <td>7.5</td>\n    </tr>\n    <tr>\n      <th>889</th>\n      <td>58</td>\n      <td>2017</td>\n      <td>729</td>\n      <td>58_2017_729</td>\n      <td>1003.6</td>\n      <td>41.56</td>\n      <td>100.0</td>\n      <td>607367928.0</td>\n      <td>-1.360294e+09</td>\n      <td>2.650</td>\n      <td>16.0</td>\n      <td>Numeric answer for number of hours of sleep fo...</td>\n      <td>7.5</td>\n    </tr>\n    <tr>\n      <th>890</th>\n      <td>58</td>\n      <td>2017</td>\n      <td>729</td>\n      <td>58_2017_729</td>\n      <td>1003.4</td>\n      <td>61.90</td>\n      <td>101.0</td>\n      <td>607367668.0</td>\n      <td>-1.360290e+09</td>\n      <td>2.613</td>\n      <td>24.0</td>\n      <td>Numeric answer for number of hours of sleep fo...</td>\n      <td>7.5</td>\n    </tr>\n  </tbody>\n</table>\n</div>"
     },
     "execution_count": 28,
     "metadata": {},
     "output_type": "execute_result"
    }
   ],
   "source": [
    "combined_sleep = garmin.merge(surveydf2, on = 'key', how = 'left')\n",
    "combined_sleep= combined_sleep.dropna()\n",
    "combined_sleep.head(5)"
   ],
   "metadata": {
    "collapsed": false,
    "pycharm": {
     "name": "#%%\n"
    }
   }
  },
  {
   "cell_type": "markdown",
   "source": [
    "### If we look at combined descriptions, match on same SubjectIDs and Keys to find Subjects that have entries for both descriptions (Sleep and Workout)"
   ],
   "metadata": {
    "collapsed": false
   }
  },
  {
   "cell_type": "code",
   "execution_count": 29,
   "outputs": [],
   "source": [
    "combined_workout2 = combined_workout.drop_duplicates(subset=['key', 'numerical_final_workout'])"
   ],
   "metadata": {
    "collapsed": false,
    "pycharm": {
     "name": "#%%\n"
    }
   }
  },
  {
   "cell_type": "code",
   "execution_count": 30,
   "outputs": [
    {
     "data": {
      "text/plain": "                   key  numerical_final_workout\n2406       58_2018_522                      3.0\n3314       58_2018_618                      2.0\n9743       58_2018_714                      3.0\n12313      58_2018_708                      4.0\n12891      58_2018_616                      4.0\n...                ...                      ...\n6030383  2067_2018_516                      3.0\n6031589  2067_2018_829                      4.0\n6037645  2067_2018_519                      8.0\n6039400  2067_2018_720                      3.0\n6045769  2067_2018_511                      3.0\n\n[547 rows x 2 columns]",
      "text/html": "<div>\n<style scoped>\n    .dataframe tbody tr th:only-of-type {\n        vertical-align: middle;\n    }\n\n    .dataframe tbody tr th {\n        vertical-align: top;\n    }\n\n    .dataframe thead th {\n        text-align: right;\n    }\n</style>\n<table border=\"1\" class=\"dataframe\">\n  <thead>\n    <tr style=\"text-align: right;\">\n      <th></th>\n      <th>key</th>\n      <th>numerical_final_workout</th>\n    </tr>\n  </thead>\n  <tbody>\n    <tr>\n      <th>2406</th>\n      <td>58_2018_522</td>\n      <td>3.0</td>\n    </tr>\n    <tr>\n      <th>3314</th>\n      <td>58_2018_618</td>\n      <td>2.0</td>\n    </tr>\n    <tr>\n      <th>9743</th>\n      <td>58_2018_714</td>\n      <td>3.0</td>\n    </tr>\n    <tr>\n      <th>12313</th>\n      <td>58_2018_708</td>\n      <td>4.0</td>\n    </tr>\n    <tr>\n      <th>12891</th>\n      <td>58_2018_616</td>\n      <td>4.0</td>\n    </tr>\n    <tr>\n      <th>...</th>\n      <td>...</td>\n      <td>...</td>\n    </tr>\n    <tr>\n      <th>6030383</th>\n      <td>2067_2018_516</td>\n      <td>3.0</td>\n    </tr>\n    <tr>\n      <th>6031589</th>\n      <td>2067_2018_829</td>\n      <td>4.0</td>\n    </tr>\n    <tr>\n      <th>6037645</th>\n      <td>2067_2018_519</td>\n      <td>8.0</td>\n    </tr>\n    <tr>\n      <th>6039400</th>\n      <td>2067_2018_720</td>\n      <td>3.0</td>\n    </tr>\n    <tr>\n      <th>6045769</th>\n      <td>2067_2018_511</td>\n      <td>3.0</td>\n    </tr>\n  </tbody>\n</table>\n<p>547 rows × 2 columns</p>\n</div>"
     },
     "execution_count": 30,
     "metadata": {},
     "output_type": "execute_result"
    }
   ],
   "source": [
    "combined_workout2[['key', 'numerical_final_workout']]"
   ],
   "metadata": {
    "collapsed": false,
    "pycharm": {
     "name": "#%%\n"
    }
   }
  },
  {
   "cell_type": "code",
   "execution_count": 31,
   "outputs": [
    {
     "data": {
      "text/plain": "array(['58_2018_522', '58_2018_618', '58_2018_714', '58_2018_708',\n       '58_2018_616', '58_2018_806', '58_2018_813', '58_2018_707',\n       '58_2018_609', '58_2018_526', '58_2018_811', '58_2018_716',\n       '58_2018_818', '58_2018_527', '58_2018_704', '58_2018_820',\n       '58_2018_721', '58_2018_519', '424_2018_815', '424_2018_903',\n       '424_2018_618', '424_2018_808', '424_2018_617', '424_2018_602',\n       '424_2018_524', '424_2018_806', '424_2018_813', '424_2018_809',\n       '424_2018_523', '424_2018_801', '424_2018_707', '424_2018_712',\n       '424_2018_611', '424_2018_604', '424_2018_521', '424_2018_606',\n       '424_2018_526', '424_2018_609', '424_2018_717', '424_2018_702',\n       '424_2018_601', '424_2018_614', '424_2018_804', '424_2018_615',\n       '424_2018_704', '424_2018_607', '424_2018_528', '424_2018_901',\n       '424_2018_802', '424_2018_909', '424_2018_719', '424_2018_730',\n       '424_2018_722', '424_2018_628', '424_2018_620', '424_2018_825',\n       '424_2018_724', '424_2018_822', '424_2018_625', '424_2018_630',\n       '424_2018_827', '424_2018_519', '424_2018_623', '424_2018_720',\n       '424_2018_728', '424_2018_516', '429_2018_820', '429_2018_625',\n       '429_2018_630', '429_2018_924', '429_2018_1015', '429_2018_623',\n       '429_2018_613', '429_2018_609', '429_2018_716', '429_2018_608',\n       '429_2018_610', '429_2018_618', '429_2018_709', '429_2018_603',\n       '429_2018_611', '429_2018_604', '514_2018_705', '514_2018_613',\n       '514_2018_606', '514_2018_803', '514_2018_521', '514_2018_718',\n       '514_2018_804', '514_2018_811', '514_2018_526', '514_2018_819',\n       '514_2018_609', '514_2018_704', '514_2018_618', '514_2018_808',\n       '514_2018_709', '514_2018_714', '514_2018_806', '514_2018_616',\n       '514_2018_524', '514_2018_801', '514_2018_611', '514_2018_712',\n       '514_2018_809', '514_2018_726', '514_2018_630', '514_2018_721',\n       '514_2018_510', '514_2018_728', '514_2018_725', '514_2018_730',\n       '514_2018_621', '514_2018_620', '514_2018_507', '514_2018_627',\n       '517_2018_1027', '517_2018_604', '517_2018_523', '517_2018_616',\n       '517_2018_919', '517_2018_525', '517_2018_602', '517_2018_520',\n       '517_2018_607', '517_2018_716', '517_2018_1022', '517_2018_811',\n       '517_2018_526', '517_2018_606', '517_2018_825', '517_2018_512',\n       '517_2018_506', '517_2018_514', '517_2018_827', '517_2018_721',\n       '517_2018_820', '517_2018_625', '1942_2018_713', '1942_2018_903',\n       '1942_2018_808', '1942_2018_530', '1942_2018_1029',\n       '1942_2018_813', '1942_2018_1027', '1942_2018_611',\n       '1942_2018_604', '1942_2018_917', '1942_2018_521', '1942_2018_613',\n       '1942_2018_606', '1942_2018_609', '1942_2018_912', '1942_2018_804',\n       '1942_2018_702', '1942_2018_528', '1942_2018_802', '1942_2018_719',\n       '1942_2018_509', '1942_2018_725', '1942_2018_730', '1942_2018_514',\n       '1942_2018_927', '1942_2018_1017', '1942_2018_512',\n       '1942_2018_1003', '1942_2018_723', '1942_2018_726',\n       '1942_2018_519', '1942_2018_516', '1990_2018_507', '1990_2018_512',\n       '1990_2018_514', '1990_2018_503', '1990_2018_516', '1990_2018_519',\n       '1990_2018_505', '1990_2018_510', '1990_2018_604', '1990_2018_523',\n       '1990_2018_524', '1990_2018_602', '1990_2018_528', '1990_2018_607',\n       '1990_2018_526', '1990_2018_606', '1990_2018_521', '1991_2018_618',\n       '1991_2018_808', '1991_2018_524', '1991_2018_806', '1991_2018_813',\n       '1991_2018_616', '1991_2018_707', '1991_2018_712', '1991_2018_521',\n       '1991_2018_718', '1991_2018_705', '1991_2018_710', '1991_2018_526',\n       '1991_2018_819', '1991_2018_609', '1991_2018_702', '1991_2018_804',\n       '1991_2018_811', '1991_2018_704', '1991_2018_514', '1991_2018_507',\n       '1991_2018_627', '1991_2018_625', '1991_2018_630', '1991_2018_505',\n       '1991_2018_721', '1991_2018_519', '1991_2018_503', '1995_2018_523',\n       '1995_2018_525', '1995_2018_530', '1995_2018_602', '1995_2018_528',\n       '1995_2018_521', '1995_2018_702', '1995_2018_507', '1995_2018_519',\n       '1995_2018_630', '2059_2018_812', '2059_2018_714', '2059_2018_709',\n       '2059_2018_1029', '2059_2018_919', '2059_2018_903',\n       '2059_2018_916', '2059_2018_618', '2059_2018_917',\n       '2059_2018_1027', '2059_2018_712', '2059_2018_611',\n       '2059_2018_708', '2059_2018_806', '2059_2018_905', '2059_2018_910',\n       '2059_2018_616', '2059_2018_1020', '2059_2018_430',\n       '2059_2018_609', '2059_2018_1022', '2059_2018_614',\n       '2059_2018_907', '2059_2018_912', '2059_2018_718', '2059_2018_613',\n       '2059_2018_705', '2059_2018_803', '2059_2018_1031',\n       '2059_2018_1024', '2059_2018_704', '2059_2018_711',\n       '2059_2018_607', '2059_2018_901', '2059_2018_802', '2059_2018_719',\n       '2059_2018_716', '2059_2018_818', '2059_2018_1017',\n       '2059_2018_621', '2059_2018_927', '2059_2018_730', '2059_2018_725',\n       '2059_2018_920', '2059_2018_509', '2059_2018_514',\n       '2059_2018_1018', '2059_2018_929', '2059_2018_1011',\n       '2059_2018_627', '2059_2018_507', '2059_2018_512', '2059_2018_628',\n       '2059_2018_620', '2059_2018_723', '2059_2018_825', '2059_2018_830',\n       '2059_2018_926', '2059_2018_729', '2059_2018_505', '2059_2018_510',\n       '2059_2018_518', '2059_2018_924', '2059_2018_827',\n       '2059_2018_1014', '2059_2018_622', '2059_2018_502',\n       '2059_2018_820', '2059_2018_630', '2059_2018_625',\n       '2059_2018_1006', '2059_2018_922', '2059_2018_829',\n       '2059_2018_516', '2059_2018_519', '2059_2018_1015',\n       '2060_2018_1025', '2060_2018_710', '2060_2018_705',\n       '2060_2018_915', '2060_2018_718', '2060_2018_614', '2060_2018_702',\n       '2060_2018_1022', '2060_2018_804', '2060_2018_526',\n       '2060_2018_819', '2060_2018_430', '2060_2018_913', '2060_2018_906',\n       '2060_2018_909', '2060_2018_719', '2060_2018_704',\n       '2060_2018_1031', '2060_2018_1024', '2060_2018_802',\n       '2060_2018_528', '2060_2018_618', '2060_2018_709', '2060_2018_530',\n       '2060_2018_911', '2060_2018_905', '2060_2018_813',\n       '2060_2018_1020', '2060_2018_616', '2060_2018_524',\n       '2060_2018_801', '2060_2018_902', '2060_2018_712', '2060_2018_707',\n       '2060_2018_1027', '2060_2018_523', '2060_2018_820',\n       '2060_2018_630', '2060_2018_625', '2060_2018_517', '2060_2018_721',\n       '2060_2018_505', '2060_2018_1008', '2060_2018_728',\n       '2060_2018_1015', '2060_2018_623', '2060_2018_821',\n       '2060_2018_922', '2060_2018_514', '2060_2018_1018',\n       '2060_2018_725', '2060_2018_1005', '2060_2018_823',\n       '2060_2018_621', '2060_2018_831', '2060_2018_1003',\n       '2060_2018_1016', '2060_2018_620', '2060_2018_825',\n       '2060_2018_512', '2060_2018_627', '2060_2018_1011',\n       '2060_2018_515', '2060_2018_929', '2060_2018_1019',\n       '2061_2018_430', '2064_2018_716', '2064_2018_913', '2064_2018_704',\n       '2064_2018_528', '2064_2018_909', '2064_2018_719', '2064_2018_606',\n       '2064_2018_705', '2064_2018_915', '2064_2018_526', '2064_2018_609',\n       '2064_2018_702', '2064_2018_905', '2064_2018_616', '2064_2018_523',\n       '2064_2018_902', '2064_2018_611', '2064_2018_618', '2064_2018_714',\n       '2064_2018_602', '2064_2018_709', '2064_2018_530', '2064_2018_519',\n       '2064_2018_623', '2064_2018_1015', '2064_2018_829',\n       '2064_2018_503', '2064_2018_502', '2064_2018_625',\n       '2064_2018_1006', '2064_2018_505', '2064_2018_827',\n       '2064_2018_721', '2064_2018_1014', '2064_2018_512',\n       '2064_2018_507', '2064_2018_830', '2064_2018_825', '2064_2018_929',\n       '2064_2018_1011', '2064_2018_627', '2064_2018_1010',\n       '2064_2018_823', '2064_2018_920', '2064_2018_509', '2064_2018_514',\n       '2064_2018_1017', '2064_2018_621', '2064_2018_927',\n       '2065_2018_924', '2065_2018_510', '2065_2018_726', '2065_2018_630',\n       '2065_2018_625', '2065_2018_820', '2065_2018_517', '2065_2018_503',\n       '2065_2018_922', '2065_2018_728', '2065_2018_1015',\n       '2065_2018_519', '2065_2018_506', '2065_2018_824', '2065_2018_927',\n       '2065_2018_1017', '2065_2018_514', '2065_2018_920',\n       '2065_2018_1010', '2065_2018_730', '2065_2018_725',\n       '2065_2018_822', '2065_2018_929', '2065_2018_926', '2065_2018_723',\n       '2065_2018_507', '2065_2018_512', '2065_2018_804', '2065_2018_912',\n       '2065_2018_614', '2065_2018_1022', '2065_2018_609',\n       '2065_2018_526', '2065_2018_816', '2065_2018_705',\n       '2065_2018_1030', '2065_2018_718', '2065_2018_521',\n       '2065_2018_719', '2065_2018_909', '2065_2018_802', '2065_2018_901',\n       '2065_2018_528', '2065_2018_607', '2065_2018_1024',\n       '2065_2018_711', '2065_2018_818', '2065_2018_913', '2065_2018_716',\n       '2065_2018_703', '2065_2018_919', '2065_2018_602', '2065_2018_714',\n       '2065_2018_618', '2065_2018_903', '2065_2018_815', '2065_2018_604',\n       '2065_2018_611', '2065_2018_1027', '2065_2018_712',\n       '2065_2018_707', '2065_2018_801', '2065_2018_917',\n       '2065_2018_1020', '2065_2018_616', '2065_2018_910',\n       '2065_2018_813', '2065_2018_524', '2066_2018_507', '2066_2018_512',\n       '2066_2018_627', '2066_2018_515', '2066_2018_509', '2066_2018_626',\n       '2066_2018_621', '2066_2018_624', '2066_2018_630', '2066_2018_517',\n       '2066_2018_510', '2066_2018_616', '2066_2018_531', '2066_2018_524',\n       '2066_2018_619', '2066_2018_605', '2066_2018_602', '2066_2018_607',\n       '2066_2018_529', '2066_2018_705', '2066_2018_609', '2067_2018_617',\n       '2067_2018_602', '2067_2018_709', '2067_2018_605', '2067_2018_618',\n       '2067_2018_808', '2067_2018_611', '2067_2018_604', '2067_2018_707',\n       '2067_2018_708', '2067_2018_813', '2067_2018_616', '2067_2018_526',\n       '2067_2018_609', '2067_2018_601', '2067_2018_804', '2067_2018_718',\n       '2067_2018_710', '2067_2018_612', '2067_2018_520', '2067_2018_719',\n       '2067_2018_805', '2067_2018_608', '2067_2018_513', '2067_2018_725',\n       '2067_2018_509', '2067_2018_514', '2067_2018_515', '2067_2018_508',\n       '2067_2018_512', '2067_2018_507', '2067_2018_825', '2067_2018_518',\n       '2067_2018_721', '2067_2018_820', '2067_2018_516', '2067_2018_829',\n       '2067_2018_519', '2067_2018_720', '2067_2018_511'], dtype=object)"
     },
     "execution_count": 31,
     "metadata": {},
     "output_type": "execute_result"
    }
   ],
   "source": [
    "total_combined = pd.merge(combined_sleep, combined_workout2[['key', 'numerical_final_workout']], on='key')\n",
    "total_combined.key.unique()"
   ],
   "metadata": {
    "collapsed": false,
    "pycharm": {
     "name": "#%%\n"
    }
   }
  },
  {
   "cell_type": "code",
   "execution_count": 32,
   "outputs": [
    {
     "data": {
      "text/plain": "<AxesSubplot:>"
     },
     "execution_count": 32,
     "metadata": {},
     "output_type": "execute_result"
    },
    {
     "data": {
      "text/plain": "<Figure size 720x432 with 1 Axes>",
      "image/png": "[encoded data removed]"
     },
     "metadata": {
      "needs_background": "light"
     },
     "output_type": "display_data"
    }
   ],
   "source": [
    "plt.figure(figsize=(10,6))\n",
    "sns.heatmap(total_combined.isnull(), cbar=False)\n"
   ],
   "metadata": {
    "collapsed": false,
    "pycharm": {
     "name": "#%%\n"
    }
   }
  },
  {
   "cell_type": "code",
   "execution_count": 33,
   "outputs": [],
   "source": [
    "total_combined.drop(['record.position_lat[semicircles]',\n",
    "                    'record.position_long[semicircles]',\n",
    "                    'description'],axis=1,inplace=True)"
   ],
   "metadata": {
    "collapsed": false,
    "pycharm": {
     "name": "#%%\n"
    }
   }
  },
  {
   "cell_type": "code",
   "execution_count": 34,
   "outputs": [
    {
     "data": {
      "text/plain": "   SubjectID  Year  Date          key  record.altitude[m]  record.distance[m]  \\\n0         58  2018   522  58_2018_522              1026.0               31.21   \n1         58  2018   522  58_2018_522              1026.0               45.74   \n2         58  2018   522  58_2018_522              1026.0               58.16   \n3         58  2018   522  58_2018_522              1026.0               62.44   \n4         58  2018   522  58_2018_522              1026.0               64.00   \n5         58  2018   522  58_2018_522              1026.0               65.44   \n6         58  2018   522  58_2018_522              1026.0               69.12   \n7         58  2018   522  58_2018_522              1026.0               70.95   \n8         58  2018   522  58_2018_522              1026.0               75.97   \n9         58  2018   522  58_2018_522              1026.0               78.84   \n\n   record.heart_rate[bpm]  record.speed[m/s]  record.timestamp[s]  \\\n0                   110.0              2.715                  0.0   \n1                   107.0              2.846                  6.0   \n2                   111.0              2.883                 11.0   \n3                   118.0              2.827                 13.0   \n4                   124.0              2.790                 14.0   \n5                   124.0              2.715                 15.0   \n6                   127.0              2.594                 17.0   \n7                   130.0              2.566                 18.0   \n8                   136.0              2.575                 20.0   \n9                   139.0              2.613                 21.0   \n\n   numerical_final_sleep  numerical_final_workout  \n0                    7.5                      3.0  \n1                    7.5                      3.0  \n2                    7.5                      3.0  \n3                    7.5                      3.0  \n4                    7.5                      3.0  \n5                    7.5                      3.0  \n6                    7.5                      3.0  \n7                    7.5                      3.0  \n8                    7.5                      3.0  \n9                    7.5                      3.0  ",
      "text/html": "<div>\n<style scoped>\n    .dataframe tbody tr th:only-of-type {\n        vertical-align: middle;\n    }\n\n    .dataframe tbody tr th {\n        vertical-align: top;\n    }\n\n    .dataframe thead th {\n        text-align: right;\n    }\n</style>\n<table border=\"1\" class=\"dataframe\">\n  <thead>\n    <tr style=\"text-align: right;\">\n      <th></th>\n      <th>SubjectID</th>\n      <th>Year</th>\n      <th>Date</th>\n      <th>key</th>\n      <th>record.altitude[m]</th>\n      <th>record.distance[m]</th>\n      <th>record.heart_rate[bpm]</th>\n      <th>record.speed[m/s]</th>\n      <th>record.timestamp[s]</th>\n      <th>numerical_final_sleep</th>\n      <th>numerical_final_workout</th>\n    </tr>\n  </thead>\n  <tbody>\n    <tr>\n      <th>0</th>\n      <td>58</td>\n      <td>2018</td>\n      <td>522</td>\n      <td>58_2018_522</td>\n      <td>1026.0</td>\n      <td>31.21</td>\n      <td>110.0</td>\n      <td>2.715</td>\n      <td>0.0</td>\n      <td>7.5</td>\n      <td>3.0</td>\n    </tr>\n    <tr>\n      <th>1</th>\n      <td>58</td>\n      <td>2018</td>\n      <td>522</td>\n      <td>58_2018_522</td>\n      <td>1026.0</td>\n      <td>45.74</td>\n      <td>107.0</td>\n      <td>2.846</td>\n      <td>6.0</td>\n      <td>7.5</td>\n      <td>3.0</td>\n    </tr>\n    <tr>\n      <th>2</th>\n      <td>58</td>\n      <td>2018</td>\n      <td>522</td>\n      <td>58_2018_522</td>\n      <td>1026.0</td>\n      <td>58.16</td>\n      <td>111.0</td>\n      <td>2.883</td>\n      <td>11.0</td>\n      <td>7.5</td>\n      <td>3.0</td>\n    </tr>\n    <tr>\n      <th>3</th>\n      <td>58</td>\n      <td>2018</td>\n      <td>522</td>\n      <td>58_2018_522</td>\n      <td>1026.0</td>\n      <td>62.44</td>\n      <td>118.0</td>\n      <td>2.827</td>\n      <td>13.0</td>\n      <td>7.5</td>\n      <td>3.0</td>\n    </tr>\n    <tr>\n      <th>4</th>\n      <td>58</td>\n      <td>2018</td>\n      <td>522</td>\n      <td>58_2018_522</td>\n      <td>1026.0</td>\n      <td>64.00</td>\n      <td>124.0</td>\n      <td>2.790</td>\n      <td>14.0</td>\n      <td>7.5</td>\n      <td>3.0</td>\n    </tr>\n    <tr>\n      <th>5</th>\n      <td>58</td>\n      <td>2018</td>\n      <td>522</td>\n      <td>58_2018_522</td>\n      <td>1026.0</td>\n      <td>65.44</td>\n      <td>124.0</td>\n      <td>2.715</td>\n      <td>15.0</td>\n      <td>7.5</td>\n      <td>3.0</td>\n    </tr>\n    <tr>\n      <th>6</th>\n      <td>58</td>\n      <td>2018</td>\n      <td>522</td>\n      <td>58_2018_522</td>\n      <td>1026.0</td>\n      <td>69.12</td>\n      <td>127.0</td>\n      <td>2.594</td>\n      <td>17.0</td>\n      <td>7.5</td>\n      <td>3.0</td>\n    </tr>\n    <tr>\n      <th>7</th>\n      <td>58</td>\n      <td>2018</td>\n      <td>522</td>\n      <td>58_2018_522</td>\n      <td>1026.0</td>\n      <td>70.95</td>\n      <td>130.0</td>\n      <td>2.566</td>\n      <td>18.0</td>\n      <td>7.5</td>\n      <td>3.0</td>\n    </tr>\n    <tr>\n      <th>8</th>\n      <td>58</td>\n      <td>2018</td>\n      <td>522</td>\n      <td>58_2018_522</td>\n      <td>1026.0</td>\n      <td>75.97</td>\n      <td>136.0</td>\n      <td>2.575</td>\n      <td>20.0</td>\n      <td>7.5</td>\n      <td>3.0</td>\n    </tr>\n    <tr>\n      <th>9</th>\n      <td>58</td>\n      <td>2018</td>\n      <td>522</td>\n      <td>58_2018_522</td>\n      <td>1026.0</td>\n      <td>78.84</td>\n      <td>139.0</td>\n      <td>2.613</td>\n      <td>21.0</td>\n      <td>7.5</td>\n      <td>3.0</td>\n    </tr>\n  </tbody>\n</table>\n</div>"
     },
     "execution_count": 34,
     "metadata": {},
     "output_type": "execute_result"
    }
   ],
   "source": [
    "total_combined.head(10)"
   ],
   "metadata": {
    "collapsed": false,
    "pycharm": {
     "name": "#%%\n"
    }
   }
  },
  {
   "cell_type": "code",
   "execution_count": 35,
   "outputs": [
    {
     "name": "stdout",
     "output_type": "stream",
     "text": [
      "<class 'pandas.core.frame.DataFrame'>\n",
      "Int64Index: 1946355 entries, 0 to 1946354\n",
      "Data columns (total 11 columns):\n",
      " #   Column                   Dtype  \n",
      "---  ------                   -----  \n",
      " 0   SubjectID                int64  \n",
      " 1   Year                     int64  \n",
      " 2   Date                     int64  \n",
      " 3   key                      object \n",
      " 4   record.altitude[m]       float64\n",
      " 5   record.distance[m]       float64\n",
      " 6   record.heart_rate[bpm]   float64\n",
      " 7   record.speed[m/s]        float64\n",
      " 8   record.timestamp[s]      float64\n",
      " 9   numerical_final_sleep    float64\n",
      " 10  numerical_final_workout  float64\n",
      "dtypes: float64(7), int64(3), object(1)\n",
      "memory usage: 178.2+ MB\n"
     ]
    }
   ],
   "source": [
    "total_combined.info()"
   ],
   "metadata": {
    "collapsed": false,
    "pycharm": {
     "name": "#%%\n"
    }
   }
  },
  {
   "cell_type": "code",
   "execution_count": 39,
   "outputs": [],
   "source": [
    "# total_combined.to_csv('garmin_sub.csv',index=False)"
   ],
   "metadata": {
    "collapsed": false,
    "pycharm": {
     "name": "#%%\n"
    }
   }
  },
  {
   "cell_type": "code",
   "execution_count": 36,
   "outputs": [
    {
     "data": {
      "text/plain": "<seaborn.axisgrid.FacetGrid at 0x18d2b802a00>"
     },
     "execution_count": 36,
     "metadata": {},
     "output_type": "execute_result"
    },
    {
     "data": {
      "text/plain": "<Figure size 360x360 with 1 Axes>",
      "image/png": "[encoded data removed]"
     },
     "metadata": {},
     "output_type": "display_data"
    }
   ],
   "source": [
    "# sns.set_style(\"whitegrid\")\n",
    "# subject58 = total_combined[total_combined['SubjectID']==58]\n",
    "# subject58\n",
    "# sns.displot(data=subject58,y=\"record.timestamp[s]\",x='record.heart_rate[bpm]')"
   ],
   "metadata": {
    "collapsed": false,
    "pycharm": {
     "name": "#%%\n"
    }
   }
  },
  {
   "cell_type": "code",
   "execution_count": 37,
   "outputs": [
    {
     "data": {
      "text/plain": "array([  58,  424,  429,  514,  517, 1942, 1990, 1991, 1995, 2059, 2060,\n       2061, 2064, 2065, 2066, 2067], dtype=int64)"
     },
     "execution_count": 37,
     "metadata": {},
     "output_type": "execute_result"
    }
   ],
   "source": [
    "total_combined.SubjectID.unique() # 16 runners"
   ],
   "metadata": {
    "collapsed": false,
    "pycharm": {
     "name": "#%%\n"
    }
   }
  },
  {
   "cell_type": "code",
   "execution_count": 56,
   "outputs": [
    {
     "data": {
      "text/plain": "   SubjectID  Year  Date          key  record.altitude[m]  record.distance[m]  \\\n0         58  2018   522  58_2018_522              1026.0               31.21   \n1         58  2018   522  58_2018_522              1026.0               45.74   \n2         58  2018   522  58_2018_522              1026.0               58.16   \n3         58  2018   522  58_2018_522              1026.0               62.44   \n4         58  2018   522  58_2018_522              1026.0               64.00   \n\n   record.heart_rate[bpm]  record.speed[m/s]  record.timestamp[s]  \\\n0                   110.0              2.715                  0.0   \n1                   107.0              2.846                  6.0   \n2                   111.0              2.883                 11.0   \n3                   118.0              2.827                 13.0   \n4                   124.0              2.790                 14.0   \n\n   numerical_final_sleep  numerical_final_workout  pace[min/Km]  \n0                    7.5                      3.0      0.000000  \n1                    7.5                      3.0      2.186314  \n2                    7.5                      3.0      3.152287  \n3                    7.5                      3.0      3.470067  \n4                    7.5                      3.0      3.645906  ",
      "text/html": "<div>\n<style scoped>\n    .dataframe tbody tr th:only-of-type {\n        vertical-align: middle;\n    }\n\n    .dataframe tbody tr th {\n        vertical-align: top;\n    }\n\n    .dataframe thead th {\n        text-align: right;\n    }\n</style>\n<table border=\"1\" class=\"dataframe\">\n  <thead>\n    <tr style=\"text-align: right;\">\n      <th></th>\n      <th>SubjectID</th>\n      <th>Year</th>\n      <th>Date</th>\n      <th>key</th>\n      <th>record.altitude[m]</th>\n      <th>record.distance[m]</th>\n      <th>record.heart_rate[bpm]</th>\n      <th>record.speed[m/s]</th>\n      <th>record.timestamp[s]</th>\n      <th>numerical_final_sleep</th>\n      <th>numerical_final_workout</th>\n      <th>pace[min/Km]</th>\n    </tr>\n  </thead>\n  <tbody>\n    <tr>\n      <th>0</th>\n      <td>58</td>\n      <td>2018</td>\n      <td>522</td>\n      <td>58_2018_522</td>\n      <td>1026.0</td>\n      <td>31.21</td>\n      <td>110.0</td>\n      <td>2.715</td>\n      <td>0.0</td>\n      <td>7.5</td>\n      <td>3.0</td>\n      <td>0.000000</td>\n    </tr>\n    <tr>\n      <th>1</th>\n      <td>58</td>\n      <td>2018</td>\n      <td>522</td>\n      <td>58_2018_522</td>\n      <td>1026.0</td>\n      <td>45.74</td>\n      <td>107.0</td>\n      <td>2.846</td>\n      <td>6.0</td>\n      <td>7.5</td>\n      <td>3.0</td>\n      <td>2.186314</td>\n    </tr>\n    <tr>\n      <th>2</th>\n      <td>58</td>\n      <td>2018</td>\n      <td>522</td>\n      <td>58_2018_522</td>\n      <td>1026.0</td>\n      <td>58.16</td>\n      <td>111.0</td>\n      <td>2.883</td>\n      <td>11.0</td>\n      <td>7.5</td>\n      <td>3.0</td>\n      <td>3.152287</td>\n    </tr>\n    <tr>\n      <th>3</th>\n      <td>58</td>\n      <td>2018</td>\n      <td>522</td>\n      <td>58_2018_522</td>\n      <td>1026.0</td>\n      <td>62.44</td>\n      <td>118.0</td>\n      <td>2.827</td>\n      <td>13.0</td>\n      <td>7.5</td>\n      <td>3.0</td>\n      <td>3.470067</td>\n    </tr>\n    <tr>\n      <th>4</th>\n      <td>58</td>\n      <td>2018</td>\n      <td>522</td>\n      <td>58_2018_522</td>\n      <td>1026.0</td>\n      <td>64.00</td>\n      <td>124.0</td>\n      <td>2.790</td>\n      <td>14.0</td>\n      <td>7.5</td>\n      <td>3.0</td>\n      <td>3.645906</td>\n    </tr>\n  </tbody>\n</table>\n</div>"
     },
     "execution_count": 56,
     "metadata": {},
     "output_type": "execute_result"
    }
   ],
   "source": [
    "total_combined['pace[min/Km]'] = total_combined['record.timestamp[s]']/total_combined['record.distance[m]']*16.667\n",
    "total_combined.head()"
   ],
   "metadata": {
    "collapsed": false,
    "pycharm": {
     "name": "#%%\n"
    }
   }
  },
  {
   "cell_type": "code",
   "execution_count": 60,
   "outputs": [
    {
     "data": {
      "text/plain": "          SubjectID       Year          Date  record.altitude[m]  \\\ncount  1.946355e+06  1946355.0  1.946355e+06        1.946355e+06   \nmean   1.653138e+03     2018.0  7.330917e+02        1.048261e+03   \nstd    6.819362e+02        0.0  1.599226e+02        2.425314e+02   \nmin    5.800000e+01     2018.0  4.300000e+02       -1.080000e+01   \n25%    1.942000e+03     2018.0  6.090000e+02        1.042400e+03   \n50%    2.059000e+03     2018.0  7.180000e+02        1.072200e+03   \n75%    2.064000e+03     2018.0  8.250000e+02        1.116000e+03   \nmax    2.067000e+03     2018.0  1.031000e+03        2.275600e+03   \n\n       record.distance[m]  record.heart_rate[bpm]  record.speed[m/s]  \\\ncount        1.946355e+06            1.946355e+06       1.946355e+06   \nmean         6.049287e+03            1.254448e+02       2.202540e+00   \nstd          5.927488e+03            4.122487e+01       5.811681e-01   \nmin          0.000000e+00            0.000000e+00       0.000000e+00   \n25%          2.085050e+03            1.220000e+02       2.015000e+00   \n50%          4.248520e+03            1.340000e+02       2.258000e+00   \n75%          7.876215e+03            1.470000e+02       2.491000e+00   \nmax          5.449489e+04            2.140000e+02       6.550000e+00   \n\n       record.timestamp[s]  numerical_final_sleep  numerical_final_workout  \\\ncount         1.946355e+06           1.946355e+06             1.946355e+06   \nmean          2.774059e+03           7.017084e+00             3.490851e+00   \nstd           2.718047e+03           1.342923e+00             1.384933e+00   \nmin           0.000000e+00           0.000000e+00             1.000000e+00   \n25%           9.680000e+02           6.383333e+00             3.000000e+00   \n50%           1.963000e+03           7.000000e+00             3.000000e+00   \n75%           3.545000e+03           8.000000e+00             4.000000e+00   \nmax           2.579600e+04           1.180000e+01             8.000000e+00   \n\n       pace[min/Km]  \ncount  1.946237e+06  \nmean            inf  \nstd             NaN  \nmin    0.000000e+00  \n25%    7.105289e+00  \n50%    7.707111e+00  \n75%    8.247725e+00  \nmax             inf  ",
      "text/html": "<div>\n<style scoped>\n    .dataframe tbody tr th:only-of-type {\n        vertical-align: middle;\n    }\n\n    .dataframe tbody tr th {\n        vertical-align: top;\n    }\n\n    .dataframe thead th {\n        text-align: right;\n    }\n</style>\n<table border=\"1\" class=\"dataframe\">\n  <thead>\n    <tr style=\"text-align: right;\">\n      <th></th>\n      <th>SubjectID</th>\n      <th>Year</th>\n      <th>Date</th>\n      <th>record.altitude[m]</th>\n      <th>record.distance[m]</th>\n      <th>record.heart_rate[bpm]</th>\n      <th>record.speed[m/s]</th>\n      <th>record.timestamp[s]</th>\n      <th>numerical_final_sleep</th>\n      <th>numerical_final_workout</th>\n      <th>pace[min/Km]</th>\n    </tr>\n  </thead>\n  <tbody>\n    <tr>\n      <th>count</th>\n      <td>1.946355e+06</td>\n      <td>1946355.0</td>\n      <td>1.946355e+06</td>\n      <td>1.946355e+06</td>\n      <td>1.946355e+06</td>\n      <td>1.946355e+06</td>\n      <td>1.946355e+06</td>\n      <td>1.946355e+06</td>\n      <td>1.946355e+06</td>\n      <td>1.946355e+06</td>\n      <td>1.946237e+06</td>\n    </tr>\n    <tr>\n      <th>mean</th>\n      <td>1.653138e+03</td>\n      <td>2018.0</td>\n      <td>7.330917e+02</td>\n      <td>1.048261e+03</td>\n      <td>6.049287e+03</td>\n      <td>1.254448e+02</td>\n      <td>2.202540e+00</td>\n      <td>2.774059e+03</td>\n      <td>7.017084e+00</td>\n      <td>3.490851e+00</td>\n      <td>inf</td>\n    </tr>\n    <tr>\n      <th>std</th>\n      <td>6.819362e+02</td>\n      <td>0.0</td>\n      <td>1.599226e+02</td>\n      <td>2.425314e+02</td>\n      <td>5.927488e+03</td>\n      <td>4.122487e+01</td>\n      <td>5.811681e-01</td>\n      <td>2.718047e+03</td>\n      <td>1.342923e+00</td>\n      <td>1.384933e+00</td>\n      <td>NaN</td>\n    </tr>\n    <tr>\n      <th>min</th>\n      <td>5.800000e+01</td>\n      <td>2018.0</td>\n      <td>4.300000e+02</td>\n      <td>-1.080000e+01</td>\n      <td>0.000000e+00</td>\n      <td>0.000000e+00</td>\n      <td>0.000000e+00</td>\n      <td>0.000000e+00</td>\n      <td>0.000000e+00</td>\n      <td>1.000000e+00</td>\n      <td>0.000000e+00</td>\n    </tr>\n    <tr>\n      <th>25%</th>\n      <td>1.942000e+03</td>\n      <td>2018.0</td>\n      <td>6.090000e+02</td>\n      <td>1.042400e+03</td>\n      <td>2.085050e+03</td>\n      <td>1.220000e+02</td>\n      <td>2.015000e+00</td>\n      <td>9.680000e+02</td>\n      <td>6.383333e+00</td>\n      <td>3.000000e+00</td>\n      <td>7.105289e+00</td>\n    </tr>\n    <tr>\n      <th>50%</th>\n      <td>2.059000e+03</td>\n      <td>2018.0</td>\n      <td>7.180000e+02</td>\n      <td>1.072200e+03</td>\n      <td>4.248520e+03</td>\n      <td>1.340000e+02</td>\n      <td>2.258000e+00</td>\n      <td>1.963000e+03</td>\n      <td>7.000000e+00</td>\n      <td>3.000000e+00</td>\n      <td>7.707111e+00</td>\n    </tr>\n    <tr>\n      <th>75%</th>\n      <td>2.064000e+03</td>\n      <td>2018.0</td>\n      <td>8.250000e+02</td>\n      <td>1.116000e+03</td>\n      <td>7.876215e+03</td>\n      <td>1.470000e+02</td>\n      <td>2.491000e+00</td>\n      <td>3.545000e+03</td>\n      <td>8.000000e+00</td>\n      <td>4.000000e+00</td>\n      <td>8.247725e+00</td>\n    </tr>\n    <tr>\n      <th>max</th>\n      <td>2.067000e+03</td>\n      <td>2018.0</td>\n      <td>1.031000e+03</td>\n      <td>2.275600e+03</td>\n      <td>5.449489e+04</td>\n      <td>2.140000e+02</td>\n      <td>6.550000e+00</td>\n      <td>2.579600e+04</td>\n      <td>1.180000e+01</td>\n      <td>8.000000e+00</td>\n      <td>inf</td>\n    </tr>\n  </tbody>\n</table>\n</div>"
     },
     "execution_count": 60,
     "metadata": {},
     "output_type": "execute_result"
    }
   ],
   "source": [
    "total_combined.describe()"
   ],
   "metadata": {
    "collapsed": false,
    "pycharm": {
     "name": "#%%\n"
    }
   }
  },
  {
   "cell_type": "code",
   "execution_count": 67,
   "outputs": [
    {
     "data": {
      "text/plain": "         SubjectID  Year  Date            key  record.altitude[m]  \\\n819555        1995  2018   519  1995_2018_519              1044.2   \n1734645       2065  2018   903  2065_2018_903              1044.8   \n\n         record.distance[m]  record.heart_rate[bpm]  record.speed[m/s]  \\\n819555                  0.0                    76.0              2.417   \n1734645                 0.0                   158.0              2.109   \n\n         record.timestamp[s]  numerical_final_sleep  numerical_final_workout  \\\n819555                  45.0                    7.0                      3.0   \n1734645                  1.0                    7.0                      2.0   \n\n         pace[min/Km]  \n819555            inf  \n1734645           inf  ",
      "text/html": "<div>\n<style scoped>\n    .dataframe tbody tr th:only-of-type {\n        vertical-align: middle;\n    }\n\n    .dataframe tbody tr th {\n        vertical-align: top;\n    }\n\n    .dataframe thead th {\n        text-align: right;\n    }\n</style>\n<table border=\"1\" class=\"dataframe\">\n  <thead>\n    <tr style=\"text-align: right;\">\n      <th></th>\n      <th>SubjectID</th>\n      <th>Year</th>\n      <th>Date</th>\n      <th>key</th>\n      <th>record.altitude[m]</th>\n      <th>record.distance[m]</th>\n      <th>record.heart_rate[bpm]</th>\n      <th>record.speed[m/s]</th>\n      <th>record.timestamp[s]</th>\n      <th>numerical_final_sleep</th>\n      <th>numerical_final_workout</th>\n      <th>pace[min/Km]</th>\n    </tr>\n  </thead>\n  <tbody>\n    <tr>\n      <th>819555</th>\n      <td>1995</td>\n      <td>2018</td>\n      <td>519</td>\n      <td>1995_2018_519</td>\n      <td>1044.2</td>\n      <td>0.0</td>\n      <td>76.0</td>\n      <td>2.417</td>\n      <td>45.0</td>\n      <td>7.0</td>\n      <td>3.0</td>\n      <td>inf</td>\n    </tr>\n    <tr>\n      <th>1734645</th>\n      <td>2065</td>\n      <td>2018</td>\n      <td>903</td>\n      <td>2065_2018_903</td>\n      <td>1044.8</td>\n      <td>0.0</td>\n      <td>158.0</td>\n      <td>2.109</td>\n      <td>1.0</td>\n      <td>7.0</td>\n      <td>2.0</td>\n      <td>inf</td>\n    </tr>\n  </tbody>\n</table>\n</div>"
     },
     "execution_count": 67,
     "metadata": {},
     "output_type": "execute_result"
    }
   ],
   "source": [
    "total_combined[(total_combined == np.inf).any(axis=1)]"
   ],
   "metadata": {
    "collapsed": false,
    "pycharm": {
     "name": "#%%\n"
    }
   }
  },
  {
   "cell_type": "code",
   "execution_count": 73,
   "outputs": [],
   "source": [
    "total_combined['pace[min/Km]'].replace(np.inf, 0,inplace=True)"
   ],
   "metadata": {
    "collapsed": false,
    "pycharm": {
     "name": "#%%\n"
    }
   }
  },
  {
   "cell_type": "code",
   "execution_count": 74,
   "outputs": [
    {
     "data": {
      "text/plain": "          SubjectID       Year          Date  record.altitude[m]  \\\ncount  1.946355e+06  1946355.0  1.946355e+06        1.946355e+06   \nmean   1.653138e+03     2018.0  7.330917e+02        1.048261e+03   \nstd    6.819362e+02        0.0  1.599226e+02        2.425314e+02   \nmin    5.800000e+01     2018.0  4.300000e+02       -1.080000e+01   \n25%    1.942000e+03     2018.0  6.090000e+02        1.042400e+03   \n50%    2.059000e+03     2018.0  7.180000e+02        1.072200e+03   \n75%    2.064000e+03     2018.0  8.250000e+02        1.116000e+03   \nmax    2.067000e+03     2018.0  1.031000e+03        2.275600e+03   \n\n       record.distance[m]  record.heart_rate[bpm]  record.speed[m/s]  \\\ncount        1.946355e+06            1.946355e+06       1.946355e+06   \nmean         6.049287e+03            1.254448e+02       2.202540e+00   \nstd          5.927488e+03            4.122487e+01       5.811681e-01   \nmin          0.000000e+00            0.000000e+00       0.000000e+00   \n25%          2.085050e+03            1.220000e+02       2.015000e+00   \n50%          4.248520e+03            1.340000e+02       2.258000e+00   \n75%          7.876215e+03            1.470000e+02       2.491000e+00   \nmax          5.449489e+04            2.140000e+02       6.550000e+00   \n\n       record.timestamp[s]  numerical_final_sleep  numerical_final_workout  \\\ncount         1.946355e+06           1.946355e+06             1.946355e+06   \nmean          2.774059e+03           7.017084e+00             3.490851e+00   \nstd           2.718047e+03           1.342923e+00             1.384933e+00   \nmin           0.000000e+00           0.000000e+00             1.000000e+00   \n25%           9.680000e+02           6.383333e+00             3.000000e+00   \n50%           1.963000e+03           7.000000e+00             3.000000e+00   \n75%           3.545000e+03           8.000000e+00             4.000000e+00   \nmax           2.579600e+04           1.180000e+01             8.000000e+00   \n\n       pace[min/Km]  \ncount  1.946237e+06  \nmean   7.860312e+00  \nstd    5.127333e+00  \nmin    0.000000e+00  \n25%    7.105288e+00  \n50%    7.707111e+00  \n75%    8.247724e+00  \nmax    8.455692e+02  ",
      "text/html": "<div>\n<style scoped>\n    .dataframe tbody tr th:only-of-type {\n        vertical-align: middle;\n    }\n\n    .dataframe tbody tr th {\n        vertical-align: top;\n    }\n\n    .dataframe thead th {\n        text-align: right;\n    }\n</style>\n<table border=\"1\" class=\"dataframe\">\n  <thead>\n    <tr style=\"text-align: right;\">\n      <th></th>\n      <th>SubjectID</th>\n      <th>Year</th>\n      <th>Date</th>\n      <th>record.altitude[m]</th>\n      <th>record.distance[m]</th>\n      <th>record.heart_rate[bpm]</th>\n      <th>record.speed[m/s]</th>\n      <th>record.timestamp[s]</th>\n      <th>numerical_final_sleep</th>\n      <th>numerical_final_workout</th>\n      <th>pace[min/Km]</th>\n    </tr>\n  </thead>\n  <tbody>\n    <tr>\n      <th>count</th>\n      <td>1.946355e+06</td>\n      <td>1946355.0</td>\n      <td>1.946355e+06</td>\n      <td>1.946355e+06</td>\n      <td>1.946355e+06</td>\n      <td>1.946355e+06</td>\n      <td>1.946355e+06</td>\n      <td>1.946355e+06</td>\n      <td>1.946355e+06</td>\n      <td>1.946355e+06</td>\n      <td>1.946237e+06</td>\n    </tr>\n    <tr>\n      <th>mean</th>\n      <td>1.653138e+03</td>\n      <td>2018.0</td>\n      <td>7.330917e+02</td>\n      <td>1.048261e+03</td>\n      <td>6.049287e+03</td>\n      <td>1.254448e+02</td>\n      <td>2.202540e+00</td>\n      <td>2.774059e+03</td>\n      <td>7.017084e+00</td>\n      <td>3.490851e+00</td>\n      <td>7.860312e+00</td>\n    </tr>\n    <tr>\n      <th>std</th>\n      <td>6.819362e+02</td>\n      <td>0.0</td>\n      <td>1.599226e+02</td>\n      <td>2.425314e+02</td>\n      <td>5.927488e+03</td>\n      <td>4.122487e+01</td>\n      <td>5.811681e-01</td>\n      <td>2.718047e+03</td>\n      <td>1.342923e+00</td>\n      <td>1.384933e+00</td>\n      <td>5.127333e+00</td>\n    </tr>\n    <tr>\n      <th>min</th>\n      <td>5.800000e+01</td>\n      <td>2018.0</td>\n      <td>4.300000e+02</td>\n      <td>-1.080000e+01</td>\n      <td>0.000000e+00</td>\n      <td>0.000000e+00</td>\n      <td>0.000000e+00</td>\n      <td>0.000000e+00</td>\n      <td>0.000000e+00</td>\n      <td>1.000000e+00</td>\n      <td>0.000000e+00</td>\n    </tr>\n    <tr>\n      <th>25%</th>\n      <td>1.942000e+03</td>\n      <td>2018.0</td>\n      <td>6.090000e+02</td>\n      <td>1.042400e+03</td>\n      <td>2.085050e+03</td>\n      <td>1.220000e+02</td>\n      <td>2.015000e+00</td>\n      <td>9.680000e+02</td>\n      <td>6.383333e+00</td>\n      <td>3.000000e+00</td>\n      <td>7.105288e+00</td>\n    </tr>\n    <tr>\n      <th>50%</th>\n      <td>2.059000e+03</td>\n      <td>2018.0</td>\n      <td>7.180000e+02</td>\n      <td>1.072200e+03</td>\n      <td>4.248520e+03</td>\n      <td>1.340000e+02</td>\n      <td>2.258000e+00</td>\n      <td>1.963000e+03</td>\n      <td>7.000000e+00</td>\n      <td>3.000000e+00</td>\n      <td>7.707111e+00</td>\n    </tr>\n    <tr>\n      <th>75%</th>\n      <td>2.064000e+03</td>\n      <td>2018.0</td>\n      <td>8.250000e+02</td>\n      <td>1.116000e+03</td>\n      <td>7.876215e+03</td>\n      <td>1.470000e+02</td>\n      <td>2.491000e+00</td>\n      <td>3.545000e+03</td>\n      <td>8.000000e+00</td>\n      <td>4.000000e+00</td>\n      <td>8.247724e+00</td>\n    </tr>\n    <tr>\n      <th>max</th>\n      <td>2.067000e+03</td>\n      <td>2018.0</td>\n      <td>1.031000e+03</td>\n      <td>2.275600e+03</td>\n      <td>5.449489e+04</td>\n      <td>2.140000e+02</td>\n      <td>6.550000e+00</td>\n      <td>2.579600e+04</td>\n      <td>1.180000e+01</td>\n      <td>8.000000e+00</td>\n      <td>8.455692e+02</td>\n    </tr>\n  </tbody>\n</table>\n</div>"
     },
     "execution_count": 74,
     "metadata": {},
     "output_type": "execute_result"
    }
   ],
   "source": [
    "total_combined.describe()"
   ],
   "metadata": {
    "collapsed": false,
    "pycharm": {
     "name": "#%%\n"
    }
   }
  },
  {
   "cell_type": "code",
   "execution_count": 76,
   "outputs": [
    {
     "data": {
      "text/plain": "   SubjectID  Year  Date          key  record.altitude[m]  record.distance[m]  \\\n0         58  2018   522  58_2018_522              1026.0               31.21   \n1         58  2018   522  58_2018_522              1026.0               45.74   \n2         58  2018   522  58_2018_522              1026.0               58.16   \n3         58  2018   522  58_2018_522              1026.0               62.44   \n4         58  2018   522  58_2018_522              1026.0               64.00   \n\n   record.heart_rate[bpm]  record.speed[m/s]  record.timestamp[s]  \\\n0                   110.0              2.715                  0.0   \n1                   107.0              2.846                  6.0   \n2                   111.0              2.883                 11.0   \n3                   118.0              2.827                 13.0   \n4                   124.0              2.790                 14.0   \n\n   numerical_final_sleep  numerical_final_workout  pace[min/Km]  \\\n0                    7.5                      3.0      0.000000   \n1                    7.5                      3.0      2.186314   \n2                    7.5                      3.0      3.152287   \n3                    7.5                      3.0      3.470067   \n4                    7.5                      3.0      3.645906   \n\n      binned_dist binned_sleep  \n0  (0.0, 5137.28]       (5, 8]  \n1  (0.0, 5137.28]       (5, 8]  \n2  (0.0, 5137.28]       (5, 8]  \n3  (0.0, 5137.28]       (5, 8]  \n4  (0.0, 5137.28]       (5, 8]  ",
      "text/html": "<div>\n<style scoped>\n    .dataframe tbody tr th:only-of-type {\n        vertical-align: middle;\n    }\n\n    .dataframe tbody tr th {\n        vertical-align: top;\n    }\n\n    .dataframe thead th {\n        text-align: right;\n    }\n</style>\n<table border=\"1\" class=\"dataframe\">\n  <thead>\n    <tr style=\"text-align: right;\">\n      <th></th>\n      <th>SubjectID</th>\n      <th>Year</th>\n      <th>Date</th>\n      <th>key</th>\n      <th>record.altitude[m]</th>\n      <th>record.distance[m]</th>\n      <th>record.heart_rate[bpm]</th>\n      <th>record.speed[m/s]</th>\n      <th>record.timestamp[s]</th>\n      <th>numerical_final_sleep</th>\n      <th>numerical_final_workout</th>\n      <th>pace[min/Km]</th>\n      <th>binned_dist</th>\n      <th>binned_sleep</th>\n    </tr>\n  </thead>\n  <tbody>\n    <tr>\n      <th>0</th>\n      <td>58</td>\n      <td>2018</td>\n      <td>522</td>\n      <td>58_2018_522</td>\n      <td>1026.0</td>\n      <td>31.21</td>\n      <td>110.0</td>\n      <td>2.715</td>\n      <td>0.0</td>\n      <td>7.5</td>\n      <td>3.0</td>\n      <td>0.000000</td>\n      <td>(0.0, 5137.28]</td>\n      <td>(5, 8]</td>\n    </tr>\n    <tr>\n      <th>1</th>\n      <td>58</td>\n      <td>2018</td>\n      <td>522</td>\n      <td>58_2018_522</td>\n      <td>1026.0</td>\n      <td>45.74</td>\n      <td>107.0</td>\n      <td>2.846</td>\n      <td>6.0</td>\n      <td>7.5</td>\n      <td>3.0</td>\n      <td>2.186314</td>\n      <td>(0.0, 5137.28]</td>\n      <td>(5, 8]</td>\n    </tr>\n    <tr>\n      <th>2</th>\n      <td>58</td>\n      <td>2018</td>\n      <td>522</td>\n      <td>58_2018_522</td>\n      <td>1026.0</td>\n      <td>58.16</td>\n      <td>111.0</td>\n      <td>2.883</td>\n      <td>11.0</td>\n      <td>7.5</td>\n      <td>3.0</td>\n      <td>3.152287</td>\n      <td>(0.0, 5137.28]</td>\n      <td>(5, 8]</td>\n    </tr>\n    <tr>\n      <th>3</th>\n      <td>58</td>\n      <td>2018</td>\n      <td>522</td>\n      <td>58_2018_522</td>\n      <td>1026.0</td>\n      <td>62.44</td>\n      <td>118.0</td>\n      <td>2.827</td>\n      <td>13.0</td>\n      <td>7.5</td>\n      <td>3.0</td>\n      <td>3.470067</td>\n      <td>(0.0, 5137.28]</td>\n      <td>(5, 8]</td>\n    </tr>\n    <tr>\n      <th>4</th>\n      <td>58</td>\n      <td>2018</td>\n      <td>522</td>\n      <td>58_2018_522</td>\n      <td>1026.0</td>\n      <td>64.00</td>\n      <td>124.0</td>\n      <td>2.790</td>\n      <td>14.0</td>\n      <td>7.5</td>\n      <td>3.0</td>\n      <td>3.645906</td>\n      <td>(0.0, 5137.28]</td>\n      <td>(5, 8]</td>\n    </tr>\n  </tbody>\n</table>\n</div>"
     },
     "execution_count": 76,
     "metadata": {},
     "output_type": "execute_result"
    }
   ],
   "source": [
    "distance_bins = [0,5137.28,25000]\n",
    "total_combined[\"binned_dist\"] = pd.cut(total_combined['record.distance[m]'], distance_bins)\n",
    "\n",
    "#bin the sleep survey datatable\n",
    "sleep_bins = [0,5,8,18]\n",
    "total_combined[\"binned_sleep\"] = pd.cut(total_combined['numerical_final_sleep'], sleep_bins)\n",
    "total_combined.head()"
   ],
   "metadata": {
    "collapsed": false,
    "pycharm": {
     "name": "#%%\n"
    }
   }
  },
  {
   "cell_type": "code",
   "execution_count": 78,
   "outputs": [
    {
     "data": {
      "text/plain": "(5, 8]     1621368\n(8, 18]     186730\n(0, 5]      131899\nName: binned_sleep, dtype: int64"
     },
     "execution_count": 78,
     "metadata": {},
     "output_type": "execute_result"
    }
   ],
   "source": [
    "total_combined['binned_sleep'].value_counts()"
   ],
   "metadata": {
    "collapsed": false,
    "pycharm": {
     "name": "#%%\n"
    }
   }
  },
  {
   "cell_type": "code",
   "execution_count": 79,
   "outputs": [
    {
     "data": {
      "text/plain": "(0.0, 5137.28]        1131310\n(5137.28, 25000.0]     782645\nName: binned_dist, dtype: int64"
     },
     "execution_count": 79,
     "metadata": {},
     "output_type": "execute_result"
    }
   ],
   "source": [
    "total_combined['binned_dist'].value_counts()"
   ],
   "metadata": {
    "collapsed": false,
    "pycharm": {
     "name": "#%%\n"
    }
   }
  }
 ],
 "metadata": {
  "kernelspec": {
   "display_name": "Python 3",
   "language": "python",
   "name": "python3"
  },
  "language_info": {
   "codemirror_mode": {
    "name": "ipython",
    "version": 2
   },
   "file_extension": ".py",
   "mimetype": "text/x-python",
   "name": "python",
   "nbconvert_exporter": "python",
   "pygments_lexer": "ipython2",
   "version": "2.7.6"
  }
 },
 "nbformat": 4,
 "nbformat_minor": 0
}